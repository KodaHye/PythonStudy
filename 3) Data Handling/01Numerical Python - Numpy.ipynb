{
 "cells": [
  {
   "cell_type": "markdown",
   "id": "58983d8d",
   "metadata": {},
   "source": [
    "#### Numpy\n",
    "* 파이썬 과학 패키지\n",
    "* Numerical Python\n",
    "* 파이썬의 고성능 과학 계산용 패키지\n",
    "* Matrix와 Vector와 같은 Array 연산의 사실상의 표준\n",
    "\n",
    "#### Numpy 특징\n",
    "* 일반 List에 비해 빠르고, 메모리 효율적\n",
    "* 반복문 없이 데이터 배열에 대한 처리를 지원\n",
    "* 선형대수와 관련된 다양한 기능을 제공함\n",
    "* C, C++, 포트란 등의 언어와 통합 가능"
   ]
  },
  {
   "cell_type": "markdown",
   "id": "df04fc81",
   "metadata": {},
   "source": [
    "#### import\n",
    "* numpy의 일반적인 호출방법"
   ]
  },
  {
   "cell_type": "code",
   "execution_count": 2,
   "id": "e9b31029",
   "metadata": {},
   "outputs": [],
   "source": [
    "import numpy as np"
   ]
  },
  {
   "cell_type": "markdown",
   "id": "0e0c171a",
   "metadata": {},
   "source": [
    "#### Array Creation\n",
    "* numpy는 np.array함수를 활용하여 배열을 생성함 → ndarray\n",
    "* numpy는 **하나의 데이터 type**만 배열에 넣을 수 있음\n",
    "* List와 가장 큰 차이점: **Dynamic typing not suppported**\n",
    "    * 리스트에는 str, int가 동시에 들어갈 수 있음\n",
    "* C의 Array를 사용하여 배열을 생성함"
   ]
  },
  {
   "cell_type": "code",
   "execution_count": 6,
   "id": "76fda50f",
   "metadata": {},
   "outputs": [
    {
     "name": "stdout",
     "output_type": "stream",
     "text": [
      "8.0\n",
      "<class 'numpy.float64'>\n"
     ]
    }
   ],
   "source": [
    "# float: 데이터 타입\n",
    "test_array = np.array([1, 4, 5, 8], float)\n",
    "print(test_array[3])\n",
    "\n",
    "print(type(test_array[3]))"
   ]
  },
  {
   "cell_type": "markdown",
   "id": "6eff85b2",
   "metadata": {},
   "source": [
    "* shape\n",
    "    * numpy array의 object dimension 구성을 반환\n",
    "* dtype\n",
    "    * numpy array의 데이터 type을 반환함"
   ]
  },
  {
   "cell_type": "code",
   "execution_count": 8,
   "id": "210fbc2a",
   "metadata": {},
   "outputs": [
    {
     "data": {
      "text/plain": [
       "(4,)"
      ]
     },
     "execution_count": 8,
     "metadata": {},
     "output_type": "execute_result"
    }
   ],
   "source": [
    "test_array.shape"
   ]
  },
  {
   "cell_type": "code",
   "execution_count": 9,
   "id": "249f6d7a",
   "metadata": {},
   "outputs": [
    {
     "data": {
      "text/plain": [
       "dtype('float64')"
      ]
     },
     "execution_count": 9,
     "metadata": {},
     "output_type": "execute_result"
    }
   ],
   "source": [
    "test_array.dtype"
   ]
  },
  {
   "cell_type": "markdown",
   "id": "88fcb476",
   "metadata": {},
   "source": [
    "#### Array shape(vector)\n",
    "* Array(vector, matrix, tensor)의 크기, 형태 등에 대한 정보\n",
    "* ndarray의 shape: tuple형태\n",
    "\n",
    "#### Array shape - ndim & size\n",
    "* ndim - number of dimension\n",
    "* size - 전체 data의 개수\n",
    "\n",
    "#### Array dtype\n",
    "* nbytes - ndarray object의 메모리 크기를 반환함"
   ]
  },
  {
   "cell_type": "code",
   "execution_count": 11,
   "id": "69dd1744",
   "metadata": {},
   "outputs": [
    {
     "data": {
      "text/plain": [
       "24"
      ]
     },
     "execution_count": 11,
     "metadata": {},
     "output_type": "execute_result"
    }
   ],
   "source": [
    "np.array([[1, 2, 3], [4.5, \"5\", \"6\"]], dtype = np.float32).nbytes"
   ]
  },
  {
   "cell_type": "markdown",
   "id": "a1d4debe",
   "metadata": {},
   "source": [
    "#### reshape\n",
    "* Array shape의 크기를 변경함(element의 개수는 동일)\n",
    "* Array의 size는 같지만 dimension(차원)이 달라짐\n",
    "* Array의 size만 같다면 다차원으로 자유롭게 변형할 수 있음"
   ]
  },
  {
   "cell_type": "code",
   "execution_count": 12,
   "id": "cff65c90",
   "metadata": {},
   "outputs": [
    {
     "data": {
      "text/plain": [
       "(2, 4)"
      ]
     },
     "execution_count": 12,
     "metadata": {},
     "output_type": "execute_result"
    }
   ],
   "source": [
    "test_matrix = [[1, 2, 3, 4], [1, 2, 5, 8]]\n",
    "np.array(test_matrix).shape"
   ]
  },
  {
   "cell_type": "code",
   "execution_count": 13,
   "id": "8b821661",
   "metadata": {},
   "outputs": [
    {
     "data": {
      "text/plain": [
       "array([[[1, 2],\n",
       "        [3, 4]],\n",
       "\n",
       "       [[1, 2],\n",
       "        [5, 8]]])"
      ]
     },
     "execution_count": 13,
     "metadata": {},
     "output_type": "execute_result"
    }
   ],
   "source": [
    "np.array(test_matrix).reshape(2, 2, 2)"
   ]
  },
  {
   "cell_type": "markdown",
   "id": "9c6ba53c",
   "metadata": {},
   "source": [
    "#### row 개수는 정확하게 모르지만, column의 개수는 정확하게 알 경우!\n",
    "    * row의 값을 -1로 설정"
   ]
  },
  {
   "cell_type": "code",
   "execution_count": 15,
   "id": "7c5a74c0",
   "metadata": {},
   "outputs": [
    {
     "data": {
      "text/plain": [
       "array([[1, 2, 3, 4],\n",
       "       [1, 2, 5, 8]])"
      ]
     },
     "execution_count": 15,
     "metadata": {},
     "output_type": "execute_result"
    }
   ],
   "source": [
    "test = np.array(test_matrix)\n",
    "test"
   ]
  },
  {
   "cell_type": "code",
   "execution_count": 18,
   "id": "fa2eda03",
   "metadata": {},
   "outputs": [
    {
     "data": {
      "text/plain": [
       "array([1, 2, 3, 4, 1, 2, 5, 8])"
      ]
     },
     "execution_count": 18,
     "metadata": {},
     "output_type": "execute_result"
    }
   ],
   "source": [
    "test = np.array(test_matrix).reshape(8, )\n",
    "test"
   ]
  },
  {
   "cell_type": "code",
   "execution_count": 21,
   "id": "e0e528ea",
   "metadata": {},
   "outputs": [
    {
     "data": {
      "text/plain": [
       "array([[1],\n",
       "       [2],\n",
       "       [3],\n",
       "       [4],\n",
       "       [1],\n",
       "       [2],\n",
       "       [5],\n",
       "       [8]])"
      ]
     },
     "execution_count": 21,
     "metadata": {},
     "output_type": "execute_result"
    }
   ],
   "source": [
    "test.reshape(-1, 1)"
   ]
  },
  {
   "cell_type": "markdown",
   "id": "974e1aed",
   "metadata": {},
   "source": [
    "#### flatten\n",
    "* 다차원 array를 1차원 array로 변환"
   ]
  },
  {
   "cell_type": "code",
   "execution_count": 22,
   "id": "8609b958",
   "metadata": {},
   "outputs": [
    {
     "data": {
      "text/plain": [
       "[[1, 2, 3, 4], [1, 2, 5, 8]]"
      ]
     },
     "execution_count": 22,
     "metadata": {},
     "output_type": "execute_result"
    }
   ],
   "source": [
    "test_matrix"
   ]
  },
  {
   "cell_type": "code",
   "execution_count": 23,
   "id": "2ad1857a",
   "metadata": {},
   "outputs": [
    {
     "data": {
      "text/plain": [
       "array([1, 2, 3, 4, 1, 2, 5, 8])"
      ]
     },
     "execution_count": 23,
     "metadata": {},
     "output_type": "execute_result"
    }
   ],
   "source": [
    "np.array(test_matrix).flatten()"
   ]
  },
  {
   "cell_type": "markdown",
   "id": "a4b4db63",
   "metadata": {},
   "source": [
    "#### indexing"
   ]
  },
  {
   "cell_type": "code",
   "execution_count": 33,
   "id": "140ed13d",
   "metadata": {},
   "outputs": [
    {
     "name": "stdout",
     "output_type": "stream",
     "text": [
      "[[1 2 3]\n",
      " [4 6 7]]\n",
      "1\n",
      "1\n"
     ]
    }
   ],
   "source": [
    "a = np.array([[1, 2, 3], [4.5, 6, 7]], int)\n",
    "\n",
    "print(a)\n",
    "\n",
    "# 아래 두 개는 같은 결과\n",
    "print(a[0, 0])\n",
    "print(a[0][0])"
   ]
  },
  {
   "cell_type": "markdown",
   "id": "30a47de1",
   "metadata": {},
   "source": [
    "#### slicing\n",
    "* List와 달리 **행과 열 부분을 나눠서 slicing**이 가능함\n",
    "* Matrix의 부분 집합을 추출할 때 사용(데이터의 일부분)\n",
    "* `x:y:z`: x부터 y-1까지 z스텝씩 건너 뛰면서"
   ]
  },
  {
   "cell_type": "code",
   "execution_count": 35,
   "id": "6697cb90",
   "metadata": {},
   "outputs": [
    {
     "data": {
      "text/plain": [
       "array([[ 6,  7,  8,  9, 10]])"
      ]
     },
     "execution_count": 35,
     "metadata": {},
     "output_type": "execute_result"
    }
   ],
   "source": [
    "a = np.array([[1, 2, 3, 4, 5], [6, 7, 8, 9, 10]], int)\n",
    "\n",
    "# 전체 Row의 2열 이상\n",
    "a[:, 2:]\n",
    "\n",
    "# 1행의 1열 ~ 2열\n",
    "a[1, 1:3]\n",
    "\n",
    "# 1행 ~ 2행의 전체\n",
    "a[1:3]"
   ]
  },
  {
   "cell_type": "markdown",
   "id": "ffec9986",
   "metadata": {},
   "source": [
    "#### arange\n",
    "* array의 범위를 지정하여, 값의 list를 생성하는 명령어"
   ]
  },
  {
   "cell_type": "code",
   "execution_count": 38,
   "id": "70ba2c96",
   "metadata": {},
   "outputs": [
    {
     "data": {
      "text/plain": [
       "array([[ 0,  1,  2,  3,  4],\n",
       "       [ 5,  6,  7,  8,  9],\n",
       "       [10, 11, 12, 13, 14],\n",
       "       [15, 16, 17, 18, 19],\n",
       "       [20, 21, 22, 23, 24],\n",
       "       [25, 26, 27, 28, 29]])"
      ]
     },
     "execution_count": 38,
     "metadata": {},
     "output_type": "execute_result"
    }
   ],
   "source": [
    "# range: List의 range와 같은 효과, Integer로 0부터 29까지 배열 추출\n",
    "np.arange(30)\n",
    "\n",
    "# 이때, column의 5개인 것으로 만들고 싶다!! 하면\n",
    "np.arange(30).reshape(-1, 5)"
   ]
  },
  {
   "cell_type": "code",
   "execution_count": 37,
   "id": "4dde6b15",
   "metadata": {},
   "outputs": [
    {
     "data": {
      "text/plain": [
       "array([0. , 0.5, 1. , 1.5, 2. , 2.5, 3. , 3.5, 4. , 4.5])"
      ]
     },
     "execution_count": 37,
     "metadata": {},
     "output_type": "execute_result"
    }
   ],
   "source": [
    "# 시작, 끝, step\n",
    "# List에서는 floating 단위로 step을 할 수 없음!\n",
    "np.arange(0, 5, 0.5)"
   ]
  },
  {
   "cell_type": "markdown",
   "id": "130fee93",
   "metadata": {},
   "source": [
    "#### ones, zeros and empty\n",
    "* zeros - 0으로 가득찬 ndarray 생성"
   ]
  },
  {
   "cell_type": "code",
   "execution_count": 45,
   "id": "a8433bb0",
   "metadata": {},
   "outputs": [
    {
     "data": {
      "text/plain": [
       "array([0, 0, 0, 0, 0, 0, 0, 0, 0, 0], dtype=int8)"
      ]
     },
     "execution_count": 45,
     "metadata": {},
     "output_type": "execute_result"
    }
   ],
   "source": [
    "# 10 - zero vector 생성\n",
    "np.zeros(shape = (10, ), dtype = np.int8)"
   ]
  },
  {
   "cell_type": "markdown",
   "id": "65751545",
   "metadata": {},
   "source": [
    "* ones - 1로 가득찬 ndarray 생성"
   ]
  },
  {
   "cell_type": "code",
   "execution_count": 46,
   "id": "18a4e1a7",
   "metadata": {},
   "outputs": [
    {
     "data": {
      "text/plain": [
       "array([1, 1, 1, 1, 1, 1, 1, 1, 1, 1], dtype=int8)"
      ]
     },
     "execution_count": 46,
     "metadata": {},
     "output_type": "execute_result"
    }
   ],
   "source": [
    "np.ones(shape = (10, ), dtype = np.int8)"
   ]
  },
  {
   "cell_type": "markdown",
   "id": "1e436da6",
   "metadata": {},
   "source": [
    "* empty - shape만 주어지고 비어있는 ndarray 생성(memory initialization이 되지 않음"
   ]
  },
  {
   "cell_type": "code",
   "execution_count": 49,
   "id": "39c2980a",
   "metadata": {},
   "outputs": [
    {
     "data": {
      "text/plain": [
       "array([ 32,  62,  62,  62,  32,  97,  91, 109,  97, 115], dtype=int8)"
      ]
     },
     "execution_count": 49,
     "metadata": {},
     "output_type": "execute_result"
    }
   ],
   "source": [
    "np.empty(shape = (10, ), dtype = np.int8)"
   ]
  },
  {
   "cell_type": "markdown",
   "id": "5e0a7bb6",
   "metadata": {},
   "source": [
    "#### something_like\n",
    "* 기존 ndarray의 shpae 크기 만큼 1, 0 또는 empty array를 반환"
   ]
  },
  {
   "cell_type": "code",
   "execution_count": 52,
   "id": "081c0932",
   "metadata": {},
   "outputs": [
    {
     "data": {
      "text/plain": [
       "array([[1, 1, 1, 1, 1, 1],\n",
       "       [1, 1, 1, 1, 1, 1],\n",
       "       [1, 1, 1, 1, 1, 1],\n",
       "       [1, 1, 1, 1, 1, 1],\n",
       "       [1, 1, 1, 1, 1, 1]])"
      ]
     },
     "execution_count": 52,
     "metadata": {},
     "output_type": "execute_result"
    }
   ],
   "source": [
    "test_matrix = np.arange(30).reshape(5, 6)\n",
    "np.ones_like(test_matrix)"
   ]
  },
  {
   "cell_type": "markdown",
   "id": "3e36ad6d",
   "metadata": {},
   "source": [
    "#### identify\n",
    "* 단위 행렬(i 행렬)을 생성함"
   ]
  },
  {
   "cell_type": "code",
   "execution_count": 53,
   "id": "8829ef0b",
   "metadata": {},
   "outputs": [
    {
     "data": {
      "text/plain": [
       "array([[1, 0, 0],\n",
       "       [0, 1, 0],\n",
       "       [0, 0, 1]], dtype=int8)"
      ]
     },
     "execution_count": 53,
     "metadata": {},
     "output_type": "execute_result"
    }
   ],
   "source": [
    "np.identity(n = 3, dtype = np.int8)"
   ]
  },
  {
   "cell_type": "code",
   "execution_count": 54,
   "id": "d985112e",
   "metadata": {},
   "outputs": [
    {
     "data": {
      "text/plain": [
       "array([[1., 0., 0., 0., 0.],\n",
       "       [0., 1., 0., 0., 0.],\n",
       "       [0., 0., 1., 0., 0.],\n",
       "       [0., 0., 0., 1., 0.],\n",
       "       [0., 0., 0., 0., 1.]])"
      ]
     },
     "execution_count": 54,
     "metadata": {},
     "output_type": "execute_result"
    }
   ],
   "source": [
    "np.identity(5)"
   ]
  },
  {
   "cell_type": "markdown",
   "id": "06c3d411",
   "metadata": {},
   "source": [
    "#### eye\n",
    "* 대각선이 1인 행렬, k값의 시작 index의 변경이 가능"
   ]
  },
  {
   "cell_type": "code",
   "execution_count": 55,
   "id": "bf3030e2",
   "metadata": {},
   "outputs": [
    {
     "data": {
      "text/plain": [
       "array([[1, 0, 0, 0, 0],\n",
       "       [0, 1, 0, 0, 0],\n",
       "       [0, 0, 1, 0, 0]], dtype=int8)"
      ]
     },
     "execution_count": 55,
     "metadata": {},
     "output_type": "execute_result"
    }
   ],
   "source": [
    "np.eye(N = 3, M = 5, dtype = np.int8)"
   ]
  },
  {
   "cell_type": "code",
   "execution_count": 57,
   "id": "a73ea185",
   "metadata": {},
   "outputs": [
    {
     "data": {
      "text/plain": [
       "array([[0, 0, 1, 0, 0],\n",
       "       [0, 0, 0, 1, 0],\n",
       "       [0, 0, 0, 0, 1],\n",
       "       [0, 0, 0, 0, 0]], dtype=int8)"
      ]
     },
     "execution_count": 57,
     "metadata": {},
     "output_type": "execute_result"
    }
   ],
   "source": [
    "# 시작 index를 정할 수 있음\n",
    "np.eye(4, 5, 2, dtype = np.int8)"
   ]
  },
  {
   "cell_type": "markdown",
   "id": "20ad898e",
   "metadata": {},
   "source": [
    "#### diag\n",
    "* 대각 행렬의 값을 추출함\n",
    "* start index를 정할 수 있음"
   ]
  },
  {
   "cell_type": "code",
   "execution_count": 60,
   "id": "f3584c65",
   "metadata": {},
   "outputs": [
    {
     "data": {
      "text/plain": [
       "array([0, 4, 8])"
      ]
     },
     "execution_count": 60,
     "metadata": {},
     "output_type": "execute_result"
    }
   ],
   "source": [
    "matrix = np.arange(9).reshape(3, 3)\n",
    "np.diag(matrix)"
   ]
  },
  {
   "cell_type": "code",
   "execution_count": 61,
   "id": "faa090e7",
   "metadata": {},
   "outputs": [
    {
     "data": {
      "text/plain": [
       "array([1, 5])"
      ]
     },
     "execution_count": 61,
     "metadata": {},
     "output_type": "execute_result"
    }
   ],
   "source": [
    "np.diag(matrix , 1)"
   ]
  },
  {
   "cell_type": "markdown",
   "id": "2c4a4399",
   "metadata": {},
   "source": [
    "#### random sampling\n",
    "* 데이터 분포에 따른 sampling으로 array를 생성\n",
    "* uniform\n",
    "    * 균등분포\n",
    "* normal\n",
    "    * 정규분포"
   ]
  },
  {
   "cell_type": "code",
   "execution_count": 62,
   "id": "1b7157c9",
   "metadata": {},
   "outputs": [
    {
     "data": {
      "text/plain": [
       "array([[0.64949494, 0.75265708, 0.25219669, 0.09976381, 0.75190248],\n",
       "       [0.73778389, 0.14989823, 0.50182197, 0.86800107, 0.22475861]])"
      ]
     },
     "execution_count": 62,
     "metadata": {},
     "output_type": "execute_result"
    }
   ],
   "source": [
    "np.random.uniform(0, 1, 10).reshape(2, 5)"
   ]
  },
  {
   "cell_type": "code",
   "execution_count": 63,
   "id": "a41ff285",
   "metadata": {},
   "outputs": [
    {
     "data": {
      "text/plain": [
       "array([[-0.37593623, -1.86299465, -0.86605917,  0.82209237, -0.48887045],\n",
       "       [-0.97477378,  0.17942969, -0.99094642,  0.67237514, -1.38237792]])"
      ]
     },
     "execution_count": 63,
     "metadata": {},
     "output_type": "execute_result"
    }
   ],
   "source": [
    "np.random.normal(0, 1, 10).reshape(2, 5)"
   ]
  },
  {
   "cell_type": "markdown",
   "id": "1fe5ff1d",
   "metadata": {},
   "source": [
    "#### sum\n",
    "* ndarray의 element들의 합을 구함\n",
    "* list의 sum 기능과 동일"
   ]
  },
  {
   "cell_type": "markdown",
   "id": "7df487da",
   "metadata": {},
   "source": [
    "#### axis\n",
    "* 모든 operation function을 실행할 때, 기준이 되는 dimension 축\n",
    "* (3, 4)인 np.array\n",
    "    * axis = 0의 값: 3, aixs = 1의 값: 4\n",
    "* 새롭게 생기는 shape가 0이 되고, 기존 shape의 axis는 한 개씩 커짐 \n",
    "<br>\n",
    "<img src = '../img/axis.PNG' width = \"500px\" height = \"250px\" alt = \"axis image\"></img>"
   ]
  },
  {
   "cell_type": "code",
   "execution_count": 66,
   "id": "27377fd0",
   "metadata": {},
   "outputs": [
    {
     "data": {
      "text/plain": [
       "array([[ 1,  2,  3,  4],\n",
       "       [ 5,  6,  7,  8],\n",
       "       [ 9, 10, 11, 12]])"
      ]
     },
     "execution_count": 66,
     "metadata": {},
     "output_type": "execute_result"
    }
   ],
   "source": [
    "test_array = np.arange(1, 13).reshape(3, 4)\n",
    "test_array"
   ]
  },
  {
   "cell_type": "code",
   "execution_count": 68,
   "id": "ccb471c7",
   "metadata": {},
   "outputs": [
    {
     "data": {
      "text/plain": [
       "array([10, 26, 42])"
      ]
     },
     "execution_count": 68,
     "metadata": {},
     "output_type": "execute_result"
    }
   ],
   "source": [
    "test_array.sum(axis = 1)"
   ]
  },
  {
   "cell_type": "code",
   "execution_count": 86,
   "id": "737beaec",
   "metadata": {},
   "outputs": [
    {
     "name": "stdout",
     "output_type": "stream",
     "text": [
      "(2, 3, 2)\n",
      "[[[ 1  2]\n",
      "  [ 3  4]\n",
      "  [ 5  6]]\n",
      "\n",
      " [[ 7  8]\n",
      "  [ 0 10]\n",
      "  [11 12]]]\n"
     ]
    },
    {
     "data": {
      "text/plain": [
       "array([[ 8, 10],\n",
       "       [ 3, 14],\n",
       "       [16, 18]])"
      ]
     },
     "execution_count": 86,
     "metadata": {},
     "output_type": "execute_result"
    }
   ],
   "source": [
    "a = np.array([[[1,2], [3,4], [5,6]], [[7,8], [0,10], [11,12]]], dtype = np.int8)\n",
    "\n",
    "print(a.shape)\n",
    "print(a)\n",
    "\n",
    "a.sum(axis = 0)"
   ]
  },
  {
   "cell_type": "markdown",
   "id": "9ede6dcd",
   "metadata": {},
   "source": [
    "#### mean & std\n",
    "* ndarray의 element들 간의 평균 또는 표준편차를 반환"
   ]
  },
  {
   "cell_type": "code",
   "execution_count": 88,
   "id": "b644e9ba",
   "metadata": {},
   "outputs": [
    {
     "data": {
      "text/plain": [
       "array([[ 1,  2,  3,  4],\n",
       "       [ 5,  6,  7,  8],\n",
       "       [ 9, 10, 11, 12]])"
      ]
     },
     "execution_count": 88,
     "metadata": {},
     "output_type": "execute_result"
    }
   ],
   "source": [
    "test_array = np.arange(1, 13).reshape(3, 4)\n",
    "test_array"
   ]
  },
  {
   "cell_type": "code",
   "execution_count": 90,
   "id": "82fded3f",
   "metadata": {},
   "outputs": [
    {
     "data": {
      "text/plain": [
       "(6.5, array([5., 6., 7., 8.]))"
      ]
     },
     "execution_count": 90,
     "metadata": {},
     "output_type": "execute_result"
    }
   ],
   "source": [
    "test_array.mean(), test_array.mean(axis=0)"
   ]
  },
  {
   "cell_type": "markdown",
   "id": "b4a1c0d4",
   "metadata": {},
   "source": [
    "#### concatenate\n",
    "* Numpy array를 합치는 함수\n",
    "* vstack\n",
    "* hstack\n",
    "* 2dimension일 경우 \n",
    "    * axis = 0: vstack과 동일\n",
    "    * axis = 1: hstack과 동일\n",
    "<br>\n",
    "<img src = \"../img/vstack_hstack.PNG\" width = \"500px\" height = \"250px\" alt = \"vstack hstack img\"></img>"
   ]
  },
  {
   "cell_type": "code",
   "execution_count": 91,
   "id": "b7fb12bb",
   "metadata": {},
   "outputs": [
    {
     "data": {
      "text/plain": [
       "array([[1, 2, 3],\n",
       "       [2, 3, 4]])"
      ]
     },
     "execution_count": 91,
     "metadata": {},
     "output_type": "execute_result"
    }
   ],
   "source": [
    "a = np.array([1, 2, 3])\n",
    "b = np.array([2, 3, 4])\n",
    "np.vstack((a, b))"
   ]
  },
  {
   "cell_type": "code",
   "execution_count": 93,
   "id": "5490c018",
   "metadata": {},
   "outputs": [
    {
     "data": {
      "text/plain": [
       "array([[1, 2],\n",
       "       [2, 3],\n",
       "       [3, 4]])"
      ]
     },
     "execution_count": 93,
     "metadata": {},
     "output_type": "execute_result"
    }
   ],
   "source": [
    "a = np.array([[1], [2], [3]])\n",
    "b = np.array([[2], [3], [4]])\n",
    "np.hstack((a, b))"
   ]
  },
  {
   "cell_type": "markdown",
   "id": "91f32dda",
   "metadata": {},
   "source": [
    "#### Operations b/t arrays\n",
    "* Numpy는 array간의 기본적인 사칙 연산을 지원함"
   ]
  },
  {
   "cell_type": "code",
   "execution_count": 98,
   "id": "7fd15b1d",
   "metadata": {},
   "outputs": [],
   "source": [
    "test_a = np.array([[1, 2, 3], [4, 5, 6]])"
   ]
  },
  {
   "cell_type": "code",
   "execution_count": 99,
   "id": "b1d68906",
   "metadata": {},
   "outputs": [
    {
     "data": {
      "text/plain": [
       "array([[ 2,  4,  6],\n",
       "       [ 8, 10, 12]])"
      ]
     },
     "execution_count": 99,
     "metadata": {},
     "output_type": "execute_result"
    }
   ],
   "source": [
    "test_a + test_a"
   ]
  },
  {
   "cell_type": "code",
   "execution_count": 100,
   "id": "c4061905",
   "metadata": {},
   "outputs": [
    {
     "data": {
      "text/plain": [
       "array([[0, 0, 0],\n",
       "       [0, 0, 0]])"
      ]
     },
     "execution_count": 100,
     "metadata": {},
     "output_type": "execute_result"
    }
   ],
   "source": [
    "test_a - test_a"
   ]
  },
  {
   "cell_type": "code",
   "execution_count": 101,
   "id": "c0bd9829",
   "metadata": {},
   "outputs": [
    {
     "data": {
      "text/plain": [
       "array([[ 1,  4,  9],\n",
       "       [16, 25, 36]])"
      ]
     },
     "execution_count": 101,
     "metadata": {},
     "output_type": "execute_result"
    }
   ],
   "source": [
    "test_a * test_a"
   ]
  },
  {
   "cell_type": "markdown",
   "id": "2d41000a",
   "metadata": {},
   "source": [
    "#### Element-wise operations\n",
    "* Array간 shape이 같을 때 일어나는 연산"
   ]
  },
  {
   "cell_type": "code",
   "execution_count": 102,
   "id": "09c8f1e1",
   "metadata": {},
   "outputs": [
    {
     "data": {
      "text/plain": [
       "array([[  1,   4,   9,  16],\n",
       "       [ 25,  36,  49,  64],\n",
       "       [ 81, 100, 121, 144]])"
      ]
     },
     "execution_count": 102,
     "metadata": {},
     "output_type": "execute_result"
    }
   ],
   "source": [
    "matrix_a = np.arange(1, 13).reshape(3, 4)\n",
    "matrix_a * matrix_a"
   ]
  },
  {
   "cell_type": "markdown",
   "id": "07260314",
   "metadata": {},
   "source": [
    "#### Dot product\n",
    "* Matrix의 기본 연산\n",
    "* dot 함수 사용"
   ]
  },
  {
   "cell_type": "code",
   "execution_count": 103,
   "id": "ffd2338b",
   "metadata": {},
   "outputs": [
    {
     "data": {
      "text/plain": [
       "array([[ 58,  64],\n",
       "       [139, 154]])"
      ]
     },
     "execution_count": 103,
     "metadata": {},
     "output_type": "execute_result"
    }
   ],
   "source": [
    "test_a = np.arange(1, 7).reshape(2, 3)\n",
    "test_b = np.arange(7, 13).reshape(3, 2)\n",
    "\n",
    "test_a.dot(test_b)"
   ]
  },
  {
   "cell_type": "markdown",
   "id": "77fbf2ad",
   "metadata": {},
   "source": [
    "#### transpose\n",
    "* transpose 또는 T attribute 사용"
   ]
  },
  {
   "cell_type": "code",
   "execution_count": 105,
   "id": "4a096107",
   "metadata": {},
   "outputs": [
    {
     "data": {
      "text/plain": [
       "array([[1, 2, 3],\n",
       "       [4, 5, 6]])"
      ]
     },
     "execution_count": 105,
     "metadata": {},
     "output_type": "execute_result"
    }
   ],
   "source": [
    "test_a = np.arange(1, 7).reshape(2, 3)\n",
    "test_a"
   ]
  },
  {
   "cell_type": "code",
   "execution_count": 107,
   "id": "c5448dc1",
   "metadata": {},
   "outputs": [
    {
     "data": {
      "text/plain": [
       "array([[1, 4],\n",
       "       [2, 5],\n",
       "       [3, 6]])"
      ]
     },
     "execution_count": 107,
     "metadata": {},
     "output_type": "execute_result"
    }
   ],
   "source": [
    "test_a.transpose()"
   ]
  },
  {
   "cell_type": "markdown",
   "id": "c417316a",
   "metadata": {},
   "source": [
    "#### broadcasting\n",
    "* Shape이 다른 배열 간 연산을 지원하는 기능"
   ]
  },
  {
   "cell_type": "markdown",
   "id": "593ded0a",
   "metadata": {},
   "source": [
    "* Scalar-vector 외에도 vector-matrix간의 연산도 지원!\n",
    "<img src = \"../img/broadcasting.PNG\" width = \"500px\" height = \"250px\" alt = \"broadcasting\"></img>"
   ]
  },
  {
   "cell_type": "code",
   "execution_count": 109,
   "id": "2750a03c",
   "metadata": {},
   "outputs": [],
   "source": [
    "test_matrix = np.array([[1, 2, 3], [4, 5, 6]], float)\n",
    "scalar = 3"
   ]
  },
  {
   "cell_type": "code",
   "execution_count": 110,
   "id": "37a9ad58",
   "metadata": {},
   "outputs": [
    {
     "data": {
      "text/plain": [
       "array([[4., 5., 6.],\n",
       "       [7., 8., 9.]])"
      ]
     },
     "execution_count": 110,
     "metadata": {},
     "output_type": "execute_result"
    }
   ],
   "source": [
    "test_matrix + scalar"
   ]
  },
  {
   "cell_type": "code",
   "execution_count": 111,
   "id": "4f1a7ea0",
   "metadata": {},
   "outputs": [
    {
     "data": {
      "text/plain": [
       "array([[ 3.,  6.,  9.],\n",
       "       [12., 15., 18.]])"
      ]
     },
     "execution_count": 111,
     "metadata": {},
     "output_type": "execute_result"
    }
   ],
   "source": [
    "test_matrix * scalar"
   ]
  },
  {
   "cell_type": "code",
   "execution_count": 112,
   "id": "b9acce14",
   "metadata": {},
   "outputs": [
    {
     "data": {
      "text/plain": [
       "array([[0.33333333, 0.66666667, 1.        ],\n",
       "       [1.33333333, 1.66666667, 2.        ]])"
      ]
     },
     "execution_count": 112,
     "metadata": {},
     "output_type": "execute_result"
    }
   ],
   "source": [
    "test_matrix  / 3"
   ]
  },
  {
   "cell_type": "code",
   "execution_count": 113,
   "id": "6e92bc1d",
   "metadata": {},
   "outputs": [
    {
     "data": {
      "text/plain": [
       "array([[  1.,   8.,  27.],\n",
       "       [ 64., 125., 216.]])"
      ]
     },
     "execution_count": 113,
     "metadata": {},
     "output_type": "execute_result"
    }
   ],
   "source": [
    "test_matrix ** scalar"
   ]
  },
  {
   "cell_type": "markdown",
   "id": "8535f1bd",
   "metadata": {},
   "source": [
    "#### Comparisoin\n",
    "#### All & Any\n",
    "* Array의 데이터 전부(and) 또는 일부(or)가 조건에 만족여부 반환\n",
    "    * any: 하나라도 조건에 만족한다면 true\n",
    "    * all: 모두가 조건에 만족한다면 true"
   ]
  },
  {
   "cell_type": "code",
   "execution_count": 115,
   "id": "aab92d2e",
   "metadata": {},
   "outputs": [],
   "source": [
    "a = np.arange(10)"
   ]
  },
  {
   "cell_type": "code",
   "execution_count": 116,
   "id": "9df22b0c",
   "metadata": {},
   "outputs": [
    {
     "data": {
      "text/plain": [
       "(True, False)"
      ]
     },
     "execution_count": 116,
     "metadata": {},
     "output_type": "execute_result"
    }
   ],
   "source": [
    "np.any(a>5), np.any(a<0)"
   ]
  },
  {
   "cell_type": "code",
   "execution_count": 118,
   "id": "572d0b9c",
   "metadata": {},
   "outputs": [
    {
     "data": {
      "text/plain": [
       "(False, True)"
      ]
     },
     "execution_count": 118,
     "metadata": {},
     "output_type": "execute_result"
    }
   ],
   "source": [
    "np.all(a>5), np.all(a<10)"
   ]
  },
  {
   "cell_type": "markdown",
   "id": "d644893f",
   "metadata": {},
   "source": [
    "#### np.where\n",
    "* 조건에 만족하는 index값을 반환"
   ]
  },
  {
   "cell_type": "code",
   "execution_count": 123,
   "id": "f9b2e8cd",
   "metadata": {},
   "outputs": [
    {
     "data": {
      "text/plain": [
       "array([1., 3., 0.])"
      ]
     },
     "execution_count": 123,
     "metadata": {},
     "output_type": "execute_result"
    }
   ],
   "source": [
    "a"
   ]
  },
  {
   "cell_type": "code",
   "execution_count": 125,
   "id": "e69dcf84",
   "metadata": {},
   "outputs": [
    {
     "data": {
      "text/plain": [
       "array([3, 3, 2])"
      ]
     },
     "execution_count": 125,
     "metadata": {},
     "output_type": "execute_result"
    }
   ],
   "source": [
    "# true일 경우 3, false일 경우 2반환\n",
    "np.where(a > 0, 3, 2)"
   ]
  },
  {
   "cell_type": "code",
   "execution_count": 127,
   "id": "22247a52",
   "metadata": {},
   "outputs": [
    {
     "data": {
      "text/plain": [
       "(array([0, 1], dtype=int64),)"
      ]
     },
     "execution_count": 127,
     "metadata": {},
     "output_type": "execute_result"
    }
   ],
   "source": [
    "np.where(a>0)"
   ]
  },
  {
   "cell_type": "markdown",
   "id": "8fc8e06d",
   "metadata": {},
   "source": [
    "#### argmax & argmin\n",
    "* 최대값, 최소값을 구할 때 만이 사용\n",
    "* argmax: 최대값의 index출력\n",
    "* argmin: 최소값의 index 출력\n",
    "* axis를 사용해서 축에서의 max, min값을 찾을 수 있음"
   ]
  },
  {
   "cell_type": "code",
   "execution_count": 129,
   "id": "8500179b",
   "metadata": {},
   "outputs": [
    {
     "data": {
      "text/plain": [
       "(array([3, 1, 1], dtype=int64), array([0, 0, 2, 2], dtype=int64))"
      ]
     },
     "execution_count": 129,
     "metadata": {},
     "output_type": "execute_result"
    }
   ],
   "source": [
    "a = np.array([[1,2, 4, 7], [9, 88, 6, 45], [9, 76, 3, 4]])\n",
    "np.argmax(a, axis = 1), np.argmin(a, axis = 0)"
   ]
  },
  {
   "cell_type": "markdown",
   "id": "b110e552",
   "metadata": {},
   "source": [
    "#### boolean index\n",
    "* numpy는 배열에서 특정 조건에 따른 값을 배열 형태로 추출할 수 있음\n",
    "* Comparison operation 함수들도 모두 사용 가능"
   ]
  },
  {
   "cell_type": "code",
   "execution_count": 130,
   "id": "07c4fba1",
   "metadata": {},
   "outputs": [],
   "source": [
    "test_array = np.array([1, 4, 0, 2, 3, 8, 9, 7], float)"
   ]
  },
  {
   "cell_type": "code",
   "execution_count": 131,
   "id": "44d8d669",
   "metadata": {},
   "outputs": [
    {
     "data": {
      "text/plain": [
       "array([False,  True, False, False, False,  True,  True,  True])"
      ]
     },
     "execution_count": 131,
     "metadata": {},
     "output_type": "execute_result"
    }
   ],
   "source": [
    "test_array > 3"
   ]
  },
  {
   "cell_type": "code",
   "execution_count": 132,
   "id": "59c6750e",
   "metadata": {},
   "outputs": [
    {
     "data": {
      "text/plain": [
       "array([4., 8., 9., 7.])"
      ]
     },
     "execution_count": 132,
     "metadata": {},
     "output_type": "execute_result"
    }
   ],
   "source": [
    "test_array[test_array > 3]"
   ]
  },
  {
   "cell_type": "code",
   "execution_count": 134,
   "id": "20129754",
   "metadata": {},
   "outputs": [
    {
     "data": {
      "text/plain": [
       "array([1., 0., 2.])"
      ]
     },
     "execution_count": 134,
     "metadata": {},
     "output_type": "execute_result"
    }
   ],
   "source": [
    "condition = test_array < 3\n",
    "test_array[condition]"
   ]
  },
  {
   "cell_type": "markdown",
   "id": "f25ebb5e",
   "metadata": {},
   "source": [
    "#### fancy index\n",
    "* numpy에 array의 index value를 사용해서 값을 추출하는 방법"
   ]
  },
  {
   "cell_type": "code",
   "execution_count": 141,
   "id": "5a0a9638",
   "metadata": {},
   "outputs": [
    {
     "data": {
      "text/plain": [
       "array([2., 2., 4., 8., 6., 4.])"
      ]
     },
     "execution_count": 141,
     "metadata": {},
     "output_type": "execute_result"
    }
   ],
   "source": [
    "a = np.array([2, 4, 6, 8], float)\n",
    "\n",
    "# 반드시 integer로 선언\n",
    "b = np.array([0, 0, 1, 3, 2, 1], int)\n",
    "\n",
    "# bracket index, b의 배열 값을 index로 하여 a의 값들을 추출함\n",
    "a[b]"
   ]
  },
  {
   "cell_type": "code",
   "execution_count": 145,
   "id": "ce70c2e4",
   "metadata": {},
   "outputs": [
    {
     "data": {
      "text/plain": [
       "array([2., 2., 4., 8., 6., 4.])"
      ]
     },
     "execution_count": 145,
     "metadata": {},
     "output_type": "execute_result"
    }
   ],
   "source": [
    "# take함수: bracket index와 같은 효과\n",
    "a.take(b)"
   ]
  },
  {
   "cell_type": "markdown",
   "id": "30de1892",
   "metadata": {},
   "source": [
    "* Matrix 형태의 데이터도 가능"
   ]
  },
  {
   "cell_type": "code",
   "execution_count": 146,
   "id": "f2cf76d9",
   "metadata": {},
   "outputs": [
    {
     "data": {
      "text/plain": [
       "array([ 1.,  4., 16., 16.,  4.])"
      ]
     },
     "execution_count": 146,
     "metadata": {},
     "output_type": "execute_result"
    }
   ],
   "source": [
    "a = np.array([[1, 4], [9, 16]], float)\n",
    "b = np.array([0, 0, 1, 1, 0], int)\n",
    "c = np.array([0, 1, 1, 1, 1], int)\n",
    "\n",
    "# zip으로 묶어서 원소를 가지고 올 수 있음!\n",
    "a[b, c]"
   ]
  },
  {
   "cell_type": "code",
   "execution_count": null,
   "id": "1295f273",
   "metadata": {},
   "outputs": [],
   "source": []
  }
 ],
 "metadata": {
  "kernelspec": {
   "display_name": "Python 3 (ipykernel)",
   "language": "python",
   "name": "python3"
  },
  "language_info": {
   "codemirror_mode": {
    "name": "ipython",
    "version": 3
   },
   "file_extension": ".py",
   "mimetype": "text/x-python",
   "name": "python",
   "nbconvert_exporter": "python",
   "pygments_lexer": "ipython3",
   "version": "3.9.7"
  }
 },
 "nbformat": 4,
 "nbformat_minor": 5
}
