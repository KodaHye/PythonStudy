{
 "cells": [
  {
   "cell_type": "markdown",
   "id": "b34cab7e",
   "metadata": {},
   "source": [
    "#### 머신러닝의 Key concepts\n",
    "* **Model**\n",
    "    * 예측을 위한 수학 공식, 함수\n",
    "    * 1차 방정식, 확률분포, condition rule\n",
    "* **Algorithms**\n",
    "    * 어떠한 문제를 풀기 위한 과정\n",
    "    * Model을 생성하기 위한 (훈련)과정\n",
    "    \n",
    "    \n",
    "* `y = ax + b`\n",
    "    * y값: 종속변수\n",
    "    * x값: 독립변수\n",
    "        * x 데이터의 실제 데이터는 **특징(feature)**을 나타냄\n",
    "    * a, b: 알고리즘을 통해 최적값을 찾음\n",
    "    \n",
    "* Feature\n",
    "    * 머신러닝에서 **데이터의 특징을 나타내는 변수**\n",
    "    * feature, 독립변수, input 변수 등은 동일의미로 사용\n",
    "    * 일반적으로 Table상에 Data를 표현할 때, Column을 의미\n",
    "    * 하나의 **data instance(실제 데이터)**는 feature vector로 표현\n",
    "\n",
    "$$ y = \\beta_1x_1 + \\beta_2x_2 + \\beta_3x_3 + \\beta_4x_4 + ... + \\beta_0 · 1$$"
   ]
  },
  {
   "cell_type": "code",
   "execution_count": null,
   "id": "84100573",
   "metadata": {},
   "outputs": [],
   "source": [
    "\n"
   ]
  }
 ],
 "metadata": {
  "kernelspec": {
   "display_name": "Python 3 (ipykernel)",
   "language": "python",
   "name": "python3"
  },
  "language_info": {
   "codemirror_mode": {
    "name": "ipython",
    "version": 3
   },
   "file_extension": ".py",
   "mimetype": "text/x-python",
   "name": "python",
   "nbconvert_exporter": "python",
   "pygments_lexer": "ipython3",
   "version": "3.9.7"
  }
 },
 "nbformat": 4,
 "nbformat_minor": 5
}
