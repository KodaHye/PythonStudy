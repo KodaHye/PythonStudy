{
 "cells": [
  {
   "cell_type": "code",
   "execution_count": 1,
   "id": "f51f2441",
   "metadata": {},
   "outputs": [
    {
     "name": "stdout",
     "output_type": "stream",
     "text": [
      "Initialized empty Git repository in C:/Users/kodhd/OneDrive/諛뷀깢 �솕硫�/寃⑥슱諛⑺븰/Untitled Folder/.git/\n"
     ]
    }
   ],
   "source": [
    "!git init"
   ]
  },
  {
   "cell_type": "code",
   "execution_count": 2,
   "id": "f3fb8f8b",
   "metadata": {},
   "outputs": [],
   "source": [
    "!git remote add origin https://github.com/KodaHye/PythonForMachineLearning-.git"
   ]
  },
  {
   "cell_type": "code",
   "execution_count": 3,
   "id": "34b30036",
   "metadata": {},
   "outputs": [],
   "source": [
    "!git branch -m main"
   ]
  },
  {
   "cell_type": "code",
   "execution_count": 4,
   "id": "7e7e1470",
   "metadata": {},
   "outputs": [
    {
     "name": "stderr",
     "output_type": "stream",
     "text": [
      "From https://github.com/KodaHye/PythonForMachineLearning-\n",
      " * branch            main       -> FETCH_HEAD\n",
      " * [new branch]      main       -> origin/main\n"
     ]
    }
   ],
   "source": [
    "!git pull origin main"
   ]
  },
  {
   "cell_type": "code",
   "execution_count": 5,
   "id": "ae975f87",
   "metadata": {},
   "outputs": [],
   "source": [
    "!git branch kodahye"
   ]
  },
  {
   "cell_type": "code",
   "execution_count": 6,
   "id": "9924d746",
   "metadata": {},
   "outputs": [
    {
     "name": "stderr",
     "output_type": "stream",
     "text": [
      "Already on 'main'\n"
     ]
    }
   ],
   "source": [
    "!git checkout main"
   ]
  },
  {
   "cell_type": "code",
   "execution_count": 7,
   "id": "b0db4a38",
   "metadata": {},
   "outputs": [
    {
     "name": "stdout",
     "output_type": "stream",
     "text": [
      "Deleted branch kodahye (was 4c1d7ed).\n"
     ]
    }
   ],
   "source": [
    "!git branch -d kodahye"
   ]
  },
  {
   "cell_type": "code",
   "execution_count": 8,
   "id": "7f3b241b",
   "metadata": {},
   "outputs": [],
   "source": [
    "!git branch kodahye"
   ]
  },
  {
   "cell_type": "code",
   "execution_count": 9,
   "id": "ee7fd7f0",
   "metadata": {},
   "outputs": [
    {
     "name": "stderr",
     "output_type": "stream",
     "text": [
      "Switched to branch 'kodahye'\n"
     ]
    }
   ],
   "source": [
    "!git checkout kodahye"
   ]
  },
  {
   "cell_type": "code",
   "execution_count": 10,
   "id": "f3a2db9c",
   "metadata": {},
   "outputs": [
    {
     "name": "stderr",
     "output_type": "stream",
     "text": [
      "warning: LF will be replaced by CRLF in .gitignore.\n",
      "The file will have its original line endings in your working directory\n",
      "warning: LF will be replaced by CRLF in about git.ipynb.\n",
      "The file will have its original line endings in your working directory\n"
     ]
    }
   ],
   "source": [
    "!git add ."
   ]
  },
  {
   "cell_type": "code",
   "execution_count": 11,
   "id": "5db2cc2b",
   "metadata": {},
   "outputs": [
    {
     "name": "stdout",
     "output_type": "stream",
     "text": [
      "[kodahye d1452f0] upload 1) Pythonic Code\n",
      " 3 files changed, 685 insertions(+)\n",
      " create mode 100644 .gitignore\n",
      " create mode 100644 1) Pythonic Code/1) Pythonic code.ipynb\n",
      " create mode 100644 about git.ipynb\n"
     ]
    }
   ],
   "source": [
    "!git commit -m \"upload 1) Pythonic Code\""
   ]
  },
  {
   "cell_type": "code",
   "execution_count": 12,
   "id": "27acb6fb",
   "metadata": {},
   "outputs": [
    {
     "name": "stderr",
     "output_type": "stream",
     "text": [
      "remote: \n",
      "remote: Create a pull request for 'kodahye' on GitHub by visiting:        \n",
      "remote:      https://github.com/KodaHye/PythonForMachineLearning-/pull/new/kodahye        \n",
      "remote: \n",
      "To https://github.com/KodaHye/PythonForMachineLearning-.git\n",
      " * [new branch]      kodahye -> kodahye\n"
     ]
    }
   ],
   "source": [
    "!git push origin kodahye"
   ]
  },
  {
   "cell_type": "code",
   "execution_count": null,
   "id": "dceb19d2",
   "metadata": {},
   "outputs": [],
   "source": []
  }
 ],
 "metadata": {
  "kernelspec": {
   "display_name": "Python 3 (ipykernel)",
   "language": "python",
   "name": "python3"
  },
  "language_info": {
   "codemirror_mode": {
    "name": "ipython",
    "version": 3
   },
   "file_extension": ".py",
   "mimetype": "text/x-python",
   "name": "python",
   "nbconvert_exporter": "python",
   "pygments_lexer": "ipython3",
   "version": "3.9.7"
  }
 },
 "nbformat": 4,
 "nbformat_minor": 5
}
