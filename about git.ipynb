{
 "cells": [
  {
   "cell_type": "code",
   "execution_count": 1,
   "id": "5727e87c",
   "metadata": {},
   "outputs": [
    {
     "name": "stdout",
     "output_type": "stream",
     "text": [
      "Initialized empty Git repository in C:/Users/kodhd/OneDrive/諛뷀깢 �솕硫�/寃⑥슱諛⑺븰/Untitled Folder/.git/\n"
     ]
    }
   ],
   "source": [
    "!git init"
   ]
  },
  {
   "cell_type": "code",
   "execution_count": 2,
   "id": "28a8d2b5",
   "metadata": {},
   "outputs": [],
   "source": [
    "!git remote add origin https://github.com/KodaHye/PythonForMachineLearning-.git"
   ]
  },
  {
   "cell_type": "code",
   "execution_count": 3,
   "id": "fec73b53",
   "metadata": {},
   "outputs": [],
   "source": [
    "!git branch -m main"
   ]
  },
  {
   "cell_type": "code",
   "execution_count": 4,
   "id": "62378eee",
   "metadata": {},
   "outputs": [
    {
     "name": "stderr",
     "output_type": "stream",
     "text": [
      "From https://github.com/KodaHye/PythonForMachineLearning-\n",
      " * branch            main       -> FETCH_HEAD\n",
      " * [new branch]      main       -> origin/main\n"
     ]
    }
   ],
   "source": [
    "!git pull origin main"
   ]
  },
  {
   "cell_type": "code",
   "execution_count": 5,
   "id": "a027e9bc",
   "metadata": {},
   "outputs": [],
   "source": [
    "!git branch kodahye"
   ]
  },
  {
   "cell_type": "code",
   "execution_count": 6,
   "id": "421f6574",
   "metadata": {},
   "outputs": [
    {
     "name": "stderr",
     "output_type": "stream",
     "text": [
      "Already on 'main'\n"
     ]
    }
   ],
   "source": [
    "!git checkout main"
   ]
  },
  {
   "cell_type": "code",
   "execution_count": 7,
   "id": "ad02e1cd",
   "metadata": {},
   "outputs": [
    {
     "name": "stdout",
     "output_type": "stream",
     "text": [
      "Deleted branch kodahye (was 4c1d7ed).\n"
     ]
    }
   ],
   "source": [
    "!git branch -d kodahye"
   ]
  },
  {
   "cell_type": "code",
   "execution_count": 8,
   "id": "c179b4dd",
   "metadata": {},
   "outputs": [],
   "source": [
    "!git branch kodahye"
   ]
  },
  {
   "cell_type": "code",
   "execution_count": 9,
   "id": "32eb448b",
   "metadata": {},
   "outputs": [
    {
     "name": "stderr",
     "output_type": "stream",
     "text": [
      "Switched to branch 'kodahye'\n"
     ]
    }
   ],
   "source": [
    "!git checkout kodahye"
   ]
  },
  {
   "cell_type": "code",
   "execution_count": null,
   "id": "9a4d51ca",
   "metadata": {},
   "outputs": [],
   "source": []
  }
 ],
 "metadata": {
  "kernelspec": {
   "display_name": "Python 3 (ipykernel)",
   "language": "python",
   "name": "python3"
  },
  "language_info": {
   "codemirror_mode": {
    "name": "ipython",
    "version": 3
   },
   "file_extension": ".py",
   "mimetype": "text/x-python",
   "name": "python",
   "nbconvert_exporter": "python",
   "pygments_lexer": "ipython3",
   "version": "3.9.7"
  }
 },
 "nbformat": 4,
 "nbformat_minor": 5
}
