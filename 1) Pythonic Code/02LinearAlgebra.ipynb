{
 "cells": [
  {
   "cell_type": "markdown",
   "id": "d217434b",
   "metadata": {},
   "source": [
    "> Linear algebra codes"
   ]
  },
  {
   "cell_type": "markdown",
   "id": "e2f1e104",
   "metadata": {},
   "source": [
    "#### Vector representation of python\n",
    "* Vextor를 파이썬으로 표시하는 다양한 방법 존재\n",
    "* 최선의 방법은 없음\n",
    "* 값의 변경 유무, 속성값 유무에 따라 선택할 수 있음\n",
    "* 본 수업에서는 **기본적으로 list로 vector연산** 실시"
   ]
  },
  {
   "cell_type": "code",
   "execution_count": 2,
   "id": "f01046eb",
   "metadata": {},
   "outputs": [
    {
     "name": "stdout",
     "output_type": "stream",
     "text": [
      "[1, 2, 10] (1, 2, 10) {'x': 1, 'y': 1, 'z': 10}\n"
     ]
    }
   ],
   "source": [
    "# List로 표현한 경우\n",
    "vector_a = [1, 2, 10]\n",
    "\n",
    "# Tuple로 표현한 경우\n",
    "vector_b = (1, 2, 10)\n",
    "\n",
    "# dict로 표현한 경우\n",
    "vector_c = {'x' : 1, 'y' : 2, 'z' : 10}\n",
    "\n",
    "print(vector_a, vector_b, vector_c)"
   ]
  },
  {
   "cell_type": "markdown",
   "id": "083438e4",
   "metadata": {},
   "source": [
    "<span style = \"color: red\">아래의 코드는 파이썬 답지 않은 코드</span>"
   ]
  },
  {
   "cell_type": "code",
   "execution_count": 3,
   "id": "6dcaf512",
   "metadata": {},
   "outputs": [
    {
     "name": "stdout",
     "output_type": "stream",
     "text": [
      "[7, 10]\n"
     ]
    }
   ],
   "source": [
    "# 파이썬답지 않은 코드,,\n",
    "u = [2, 2]\n",
    "v = [2, 3]\n",
    "z = [3, 5]\n",
    "result = []\n",
    "for i in range(len(u)): \n",
    "    result.append(u[i] + v[i] + z[i])\n",
    "    \n",
    "print(result)"
   ]
  },
  {
   "cell_type": "code",
   "execution_count": 5,
   "id": "c3b55d15",
   "metadata": {},
   "outputs": [
    {
     "name": "stdout",
     "output_type": "stream",
     "text": [
      "[7, 10]\n"
     ]
    }
   ],
   "source": [
    "u = [2, 2]\n",
    "v = [2, 3]\n",
    "z = [3, 5]\n",
    "\n",
    "result = [sum(t) for t in zip(u, v, z)]\n",
    "print(result)"
   ]
  },
  {
   "cell_type": "markdown",
   "id": "a657aadb",
   "metadata": {},
   "source": [
    "#### Vector의 계산: Scalar-Vector product"
   ]
  },
  {
   "cell_type": "code",
   "execution_count": 7,
   "id": "eb4fe853",
   "metadata": {},
   "outputs": [
    {
     "data": {
      "text/plain": [
       "[25, 35, 45]"
      ]
     },
     "execution_count": 7,
     "metadata": {},
     "output_type": "execute_result"
    }
   ],
   "source": [
    "u = [1, 2, 3]\n",
    "v = [4, 5, 6]\n",
    "a = 5\n",
    "\n",
    "[a * sum(z) for z in zip(u, v)]"
   ]
  },
  {
   "cell_type": "markdown",
   "id": "29691f98",
   "metadata": {},
   "source": [
    "#### Matrix representation of python\n",
    "* Matrix 역시 Python으로 표시하는 다양한 방법이 존재\n",
    "* 특히 dict로 표현할 때는 다양한 방법이 있음\n",
    "* 본 수업에서는 기본적으로 two-dimensional list 형태로 표현함\n",
    "* [[첫번째 row], [두번째 row], [세번째 row]] (각각의 row를 벡터처럼)"
   ]
  },
  {
   "cell_type": "markdown",
   "id": "70e32742",
   "metadata": {},
   "source": [
    "#### Matrix의 계산: Matrix addition"
   ]
  },
  {
   "cell_type": "markdown",
   "id": "78a62b67",
   "metadata": {},
   "source": [
    "\n",
    " \n",
    " \n",
    "$$C = A + B =\n",
    " \\begin{bmatrix}\n",
    "  3 & 6 \\\\\n",
    "  4 & 5 \\\\\n",
    " \\end{bmatrix} + \n",
    "  \\begin{bmatrix}\n",
    "  5 & 8 \\\\\n",
    "  6 & 7 \\\\\n",
    " \\end{bmatrix} = \n",
    "  \\begin{bmatrix}\n",
    "  8 & 14 \\\\\n",
    "  10 & 12 \\\\\n",
    " \\end{bmatrix}\n",
    " $$ "
   ]
  },
  {
   "cell_type": "code",
   "execution_count": 14,
   "id": "2f76e803",
   "metadata": {},
   "outputs": [
    {
     "name": "stdout",
     "output_type": "stream",
     "text": [
      "[[8, 14], [10, 12]]\n"
     ]
    }
   ],
   "source": [
    "matrix_a = [[3, 6], [4, 5]]\n",
    "matrix_b = [[5, 8], [6, 7]]\n",
    "\n",
    "# 처음에 [3, 6]과 [5, 8]이 zip으로 묶어짐 (tuple 형태!)\n",
    "# *를 사용하면 tuple이 unpacking되어서 ([3, 6], [5, 8]) → [3, 6], [5, 8]\n",
    "result = [[sum(row) for row in zip(*t)] for t in zip(matrix_a, matrix_b)]\n",
    "print(result)"
   ]
  },
  {
   "cell_type": "markdown",
   "id": "3f0b9919",
   "metadata": {},
   "source": [
    "#### Matrix의 계산: Scalar-Matrix Product"
   ]
  },
  {
   "cell_type": "markdown",
   "id": "c8a8a498",
   "metadata": {},
   "source": [
    "\n",
    " \n",
    " \n",
    "$$a × A = 4 ×\n",
    " \\begin{bmatrix}\n",
    "  3 & 6 \\\\\n",
    "  4 & 5 \\\\\n",
    " \\end{bmatrix} = \n",
    "  \\begin{bmatrix}\n",
    "  12 & 24 \\\\\n",
    "  16 & 20 \\\\\n",
    " \\end{bmatrix}\n",
    " $$ "
   ]
  },
  {
   "cell_type": "code",
   "execution_count": 19,
   "id": "aea4cc3f",
   "metadata": {},
   "outputs": [
    {
     "name": "stdout",
     "output_type": "stream",
     "text": [
      "[[12, 24], [16, 20]]\n"
     ]
    }
   ],
   "source": [
    "matrix_a = [[3, 6], [4, 5]]\n",
    "alpha = 4\n",
    "result = [[alpha * element for element in t] for t in matrix_a]\n",
    "\n",
    "print(result)"
   ]
  },
  {
   "cell_type": "markdown",
   "id": "31286a38",
   "metadata": {},
   "source": [
    "#### Matrix의 계산: Matrix Transpose"
   ]
  },
  {
   "cell_type": "markdown",
   "id": "0c4fbd96",
   "metadata": {},
   "source": [
    "$$A = \n",
    "\\begin{bmatrix}\n",
    "  1 & 2 & 3 \\\\\n",
    "  4 & 5 & 6 \\\\\n",
    " \\end{bmatrix}, \n",
    " A^T = \n",
    "\\begin{bmatrix}\n",
    "  1 & 4 \\\\\n",
    "  2 & 5 \\\\\n",
    "  3 & 6 \\\\\n",
    " \\end{bmatrix}\n",
    " $$ "
   ]
  },
  {
   "cell_type": "code",
   "execution_count": 24,
   "id": "298875eb",
   "metadata": {},
   "outputs": [
    {
     "name": "stdout",
     "output_type": "stream",
     "text": [
      "[[1, 4], [2, 5], [3, 6]]\n"
     ]
    }
   ],
   "source": [
    "matrix_a = [[1, 2, 3], [4, 5, 6]]\n",
    "\n",
    "result = [[element for element in t] for t in zip(*matrix_a)]\n",
    "print(result)"
   ]
  },
  {
   "cell_type": "markdown",
   "id": "9a0e2d44",
   "metadata": {},
   "source": [
    "#### Matrix의 계산: Matrix Product"
   ]
  },
  {
   "cell_type": "markdown",
   "id": "3c9c3c15",
   "metadata": {},
   "source": [
    "$$A = \n",
    "\\begin{bmatrix}\n",
    "  1 & 2 & 3 \\\\\n",
    "  4 & 5 & 6 \\\\\n",
    " \\end{bmatrix}, \n",
    " A^T = \n",
    "\\begin{bmatrix}\n",
    "  1 & 4 \\\\\n",
    "  2 & 5 \\\\\n",
    "  3 & 6 \\\\\n",
    " \\end{bmatrix}\n",
    " $$ "
   ]
  },
  {
   "cell_type": "code",
   "execution_count": 28,
   "id": "bd95abef",
   "metadata": {},
   "outputs": [
    {
     "name": "stdout",
     "output_type": "stream",
     "text": [
      "[[9, 21], [7, 19]]\n"
     ]
    }
   ],
   "source": [
    "matrix_a = [[1, 1, 2], [2, 1, 1]]\n",
    "matrix_b = [[1, 4], [2, 5], [3, 6]]\n",
    "result = [[sum(a * b for a, b in zip(row_a, column_b))\\\n",
    "          for column_b in zip(*matrix_b)] for row_a in matrix_a]\n",
    "\n",
    "print(result)"
   ]
  }
 ],
 "metadata": {
  "kernelspec": {
   "display_name": "Python 3 (ipykernel)",
   "language": "python",
   "name": "python3"
  },
  "language_info": {
   "codemirror_mode": {
    "name": "ipython",
    "version": 3
   },
   "file_extension": ".py",
   "mimetype": "text/x-python",
   "name": "python",
   "nbconvert_exporter": "python",
   "pygments_lexer": "ipython3",
   "version": "3.9.7"
  }
 },
 "nbformat": 4,
 "nbformat_minor": 5
}
