{
 "cells": [
  {
   "cell_type": "markdown",
   "id": "0f717e42",
   "metadata": {},
   "source": [
    "> 1. Split & Join <br>\n",
    "> 2. List Comprehension <br>\n",
    "> 3. Enumerate & Zip <br>\n",
    "> 4. Lambda & MapReduce <br>\n",
    "> 5. Asterisk <br>\n",
    "> 6. Data Structure - Colecctions"
   ]
  },
  {
   "cell_type": "markdown",
   "id": "08c0bab5",
   "metadata": {},
   "source": [
    "#### Pythonic Code \n",
    "\n",
    "* 예시: 여러 단어들을 하나로 붙일 때\n",
    "\n",
    "\n",
    "``` c\n",
    "colors = \"red\", \"blue\", \"green\"\n",
    "result = \"\"\n",
    "for s in colors:\n",
    "\tresult += s\n",
    "```\n",
    "-----\n",
    "\n",
    "```python\n",
    "colors = ['red', 'blue', 'green', 'yellow']\n",
    "result = ''.join(colors)\n",
    "result\n",
    "```\n",
    "* 파이썬 스타일의 코딩 기법\n",
    "* **파이썬 특유의 문법**을 활용하여 효율적으로 코드를 표현함\n",
    "* 고급코드를 작성할수록 더 많이 필요해짐\n"
   ]
  },
  {
   "cell_type": "markdown",
   "id": "73f5e093",
   "metadata": {},
   "source": [
    "#### Split 함수\n",
    "\n",
    "* String Type의 값을 나눠서 List 형태로 변환"
   ]
  },
  {
   "cell_type": "code",
   "execution_count": 2,
   "id": "704efd75",
   "metadata": {},
   "outputs": [
    {
     "name": "stdout",
     "output_type": "stream",
     "text": [
      "['zero', 'one', 'two', 'three']\n"
     ]
    }
   ],
   "source": [
    "# 빈간을 기준으로 문자열 나누기, 각 요소에 index가 할당됨\n",
    "items = 'zero one two three'.split() \n",
    "print(items)\n",
    "example = 'python,jquery,javascript' # ','을 기준으로 문자열 나누기\n",
    "example.split(',')\n",
    "\n",
    "# 리스트에 있는 각 값을 a, b, c 변수로 unpacking\n",
    "# split된 요소가 a, b, c로 매핑이 됨, 주로 domain address에서 사용\n",
    "a, b, c = example.split(',')\n",
    "example = 'cs50.gachon.edu'\n",
    "\n",
    "# '.'을 기준으로 문자열 나누기\n",
    "subdomain, domain, tld = example.split('.')"
   ]
  },
  {
   "cell_type": "markdown",
   "id": "c7dafc83",
   "metadata": {},
   "source": [
    "#### Join 함수\n",
    "* String List를 합쳐 하나의 String으로 반환할 때 사용"
   ]
  },
  {
   "cell_type": "code",
   "execution_count": 5,
   "id": "cc710fa1",
   "metadata": {},
   "outputs": [],
   "source": [
    "colors = ['red', 'blue', 'green']\n",
    "result = ''.join(colors)\n",
    "# 'redbluegreen'\n",
    "\n",
    "# 연결 시 빈칸 한 칸으로 연결\n",
    "result = ' '.join(colors)\n",
    "# 'red blue green'\n",
    "\n",
    "# 연결 시 ', '으로 연결\n",
    "result = ', '.join(colors)\n",
    "# 'red, blue, green'"
   ]
  },
  {
   "cell_type": "markdown",
   "id": "788a929a",
   "metadata": {},
   "source": [
    "#### List comprehension\n",
    "* 기존 List를 사용하여 간단히 다른 리스트를 만드는 기법\n",
    "* 포괄적인 List, 포함되는 리스트라는 의미로 사용됨\n",
    "* 파이썬에서 가장 많이 사용되는 기법 중 하나\n",
    "* 일반적으로 for + append 보다 속도가 빠름\n",
    "* 결과를 `1 dimensional list`로 할 수 있고, `2 dimensional list`로 할 수도 있음"
   ]
  },
  {
   "cell_type": "code",
   "execution_count": 6,
   "id": "7330a886",
   "metadata": {},
   "outputs": [
    {
     "data": {
      "text/plain": [
       "[0, 1, 2, 3, 4, 5, 6, 7, 8, 9]"
      ]
     },
     "execution_count": 6,
     "metadata": {},
     "output_type": "execute_result"
    }
   ],
   "source": [
    "# 일반적으로 forloop를 사용한 경우\n",
    "result = []\n",
    "for i in range(10):\n",
    "    result.append(i)\n",
    "result"
   ]
  },
  {
   "cell_type": "code",
   "execution_count": 9,
   "id": "f246d619",
   "metadata": {},
   "outputs": [
    {
     "name": "stdout",
     "output_type": "stream",
     "text": [
      "[0, 1, 2, 3, 4, 5, 6, 7, 8, 9]\n",
      "[0, 2, 4, 6, 8]\n"
     ]
    }
   ],
   "source": [
    "# list comprehension을 사용\n",
    "# i의 값이 차례로 i에 들어가게 되면서 result(하나의 리스트)가 만들어짐\n",
    "result = [i for i in range(10)]\n",
    "print(result)\n",
    "\n",
    "# list comprehension에 필터 기능을 추가할 수 있음\n",
    "# 조건에 만족할때만 리스트에 추가\n",
    "result = [i for i in range(10) if i % 2 ==0]\n",
    "print(result)"
   ]
  },
  {
   "cell_type": "code",
   "execution_count": 17,
   "id": "ea80c859",
   "metadata": {},
   "outputs": [
    {
     "name": "stdout",
     "output_type": "stream",
     "text": [
      "['HW', 'Ho', 'Hr', 'Hl', 'Hd', 'eW', 'eo', 'er', 'el', 'ed', 'lW', 'lo', 'lr', 'll', 'ld', 'lW', 'lo', 'lr', 'll', 'ld', 'oW', 'oo', 'or', 'ol', 'od']\n"
     ]
    }
   ],
   "source": [
    "word_1 = \"Hello\"\n",
    "word_2 = \"World\"\n",
    "\n",
    "# Nested For Loop\n",
    "# for loop를 2개 사용하는 것과는 조금 차이가 있음!\n",
    "result = [i + j for i in word_1 for j in word_2]\n",
    "print(result)"
   ]
  },
  {
   "cell_type": "code",
   "execution_count": 20,
   "id": "1a8e4456",
   "metadata": {},
   "outputs": [
    {
     "name": "stdout",
     "output_type": "stream",
     "text": [
      "['AD', 'AE', 'AF', 'BD', 'BE', 'BF', 'CD', 'CE', 'CF']\n",
      "['AD', 'AE', 'AF', 'BD', 'BE', 'BF', 'CD', 'CE', 'CF']\n"
     ]
    }
   ],
   "source": [
    "case_1 = ['A', 'B', 'C']\n",
    "case_2 = ['D', 'E', 'F']\n",
    "result = [i+j for i in case_1 for j in case_2]\n",
    "print(result)\n",
    "\n",
    "# 필터를 추가하여 연산을 할 수도 있음\n",
    "result = [i + j for i in case_1 for j in case_2 if not(i==j)]\n",
    "print(result)"
   ]
  },
  {
   "cell_type": "code",
   "execution_count": 31,
   "id": "48317675",
   "metadata": {},
   "outputs": [
    {
     "name": "stdout",
     "output_type": "stream",
     "text": [
      "['the', 'quick', 'brown', 'fox', 'jumps', 'over', 'the', 'lazy', 'dog']\n",
      "['THE', 'the', 3]\n",
      "['QUICK', 'quick', 5]\n",
      "['BROWN', 'brown', 5]\n",
      "['FOX', 'fox', 3]\n",
      "['JUMPS', 'jumps', 5]\n",
      "['OVER', 'over', 4]\n",
      "['THE', 'the', 3]\n",
      "['LAZY', 'lazy', 4]\n",
      "['DOG', 'dog', 3]\n",
      "[['THE', 'the', 3], ['QUICK', 'quick', 5], ['BROWN', 'brown', 5], ['FOX', 'fox', 3], ['JUMPS', 'jumps', 5], ['OVER', 'over', 4], ['THE', 'the', 3], ['LAZY', 'lazy', 4], ['DOG', 'dog', 3]]\n"
     ]
    }
   ],
   "source": [
    "# 문장을 빈칸 기준으로 나눠 list로 변환\n",
    "words = 'the quick brown fox jumps over the lazy dog'.split()\n",
    "\n",
    "print(words)\n",
    "\n",
    "# list의 각 element들을 대문자, 소문자, 길이로 변환하여 two demensional list로 변환\n",
    "stuff = [[w.upper(), w.lower(), len(w)] for w in words] \n",
    "\n",
    "for i in stuff:\n",
    "    print(i)\n",
    "    \n",
    "print(stuff)"
   ]
  },
  {
   "cell_type": "markdown",
   "id": "109022bf",
   "metadata": {},
   "source": [
    "#### Enumerate & Zip\n",
    "* List의 element를 추출할 때 번호를 붙여서 추출"
   ]
  },
  {
   "cell_type": "code",
   "execution_count": 37,
   "id": "ce4879a7",
   "metadata": {},
   "outputs": [
    {
     "name": "stdout",
     "output_type": "stream",
     "text": [
      "0 tic\n",
      "1 tac\n",
      "2 tok\n"
     ]
    }
   ],
   "source": [
    "# list의 있는 index와 값을 unpacking\n",
    "for i, v in enumerate(['tic', 'tac', 'tok']):\n",
    "    print(i, v)"
   ]
  },
  {
   "cell_type": "code",
   "execution_count": 38,
   "id": "9d4f8072",
   "metadata": {},
   "outputs": [
    {
     "data": {
      "text/plain": [
       "[(0, 'a'), (1, 'b'), (2, 'c'), (3, 'd')]"
      ]
     },
     "execution_count": 38,
     "metadata": {},
     "output_type": "execute_result"
    }
   ],
   "source": [
    "mylist = ['a', 'b', 'c', 'd']\n",
    "\n",
    "# list에 있는 index와 값을 unpacking하여 list로 저장\n",
    "list(enumerate(mylist))"
   ]
  },
  {
   "cell_type": "code",
   "execution_count": 43,
   "id": "a2901b19",
   "metadata": {},
   "outputs": [
    {
     "data": {
      "text/plain": [
       "{0: 'Gachon',\n",
       " 1: 'University',\n",
       " 2: 'is',\n",
       " 3: 'an',\n",
       " 4: 'academic',\n",
       " 5: 'institute',\n",
       " 6: 'located',\n",
       " 7: 'in',\n",
       " 8: 'South',\n",
       " 9: 'Korea.'}"
      ]
     },
     "execution_count": 43,
     "metadata": {},
     "output_type": "execute_result"
    }
   ],
   "source": [
    "# 문장을 list로 만들고, list의 index와 값을 unpacking하여 dict로 저장\n",
    "{i:j for i, j in enumerate('Gachon University is an academic institute located in South Korea.'.split())}"
   ]
  },
  {
   "cell_type": "markdown",
   "id": "f2f8f738",
   "metadata": {},
   "source": [
    "#### Zip\n",
    "* 두 개의 list의 값을 병렬적으로 추출함\n",
    "* 같은 index의 원소들을 묶음\n",
    "* 벡터 계산 모듈을 만들 때 사용하면 간편함!"
   ]
  },
  {
   "cell_type": "code",
   "execution_count": 53,
   "id": "6e225db6",
   "metadata": {
    "scrolled": true
   },
   "outputs": [
    {
     "name": "stdout",
     "output_type": "stream",
     "text": [
      "a1 b1\n",
      "a2 b2\n",
      "a3 b3\n"
     ]
    }
   ],
   "source": [
    "alist = ['a1', 'a2', 'a3']\n",
    "blist = ['b1', 'b2', 'b3']\n",
    "\n",
    "for a, b in zip(alist, blist):\n",
    "    print(a, b)"
   ]
  },
  {
   "cell_type": "code",
   "execution_count": 54,
   "id": "c9446bb7",
   "metadata": {},
   "outputs": [
    {
     "data": {
      "text/plain": [
       "[111, 222, 333]"
      ]
     },
     "execution_count": 54,
     "metadata": {},
     "output_type": "execute_result"
    }
   ],
   "source": [
    "# 각 tuple의 같은 index끼리 묶음\n",
    "a, b, c = zip((1, 2, 3), (10, 20, 30), (100, 200, 300))\n",
    "\n",
    "# 각 tuple의 같은 index를 묶어 합을 list로 변환\n",
    "# 벡터의 연산\n",
    "[sum(x) for x in zip((1, 2, 3), (10, 20, 30), (100, 200, 300))]"
   ]
  },
  {
   "cell_type": "markdown",
   "id": "112426f0",
   "metadata": {},
   "source": [
    "#### Enumerate & Zip\n",
    "* Zip을 사용하여 index가 같은 원소들을 묶어주고\n",
    "* i의 값에 index를 붙여서 출력할 수 있음"
   ]
  },
  {
   "cell_type": "code",
   "execution_count": 56,
   "id": "c0f0ae1e",
   "metadata": {},
   "outputs": [
    {
     "name": "stdout",
     "output_type": "stream",
     "text": [
      "0 a1 b1\n",
      "1 a2 b2\n",
      "2 a3 b3\n"
     ]
    }
   ],
   "source": [
    "alist = ['a1', 'a2', 'a3']\n",
    "blist = ['b1', 'b2', 'b3']\n",
    "\n",
    "for i, (a, b) in enumerate(zip(alist, blist)):\n",
    "    print(i, a, b)"
   ]
  },
  {
   "cell_type": "markdown",
   "id": "c2014587",
   "metadata": {},
   "source": [
    "#### Lambda\n",
    "* 함수 이름 없이, 함수처럼 쓸 수 있는 익명함수(함수를 선언할 필요 X)\n",
    "* 수학의 람다 대수에서 유래함\n",
    "* `lamda` `입력되는 값` `반환되는 값`을 사용하여 하나의 함수를 만듦\n",
    "* Python3부터는 권장되지 않지만, Pandas에서 사용되는 경우가 있음\n",
    "\n",
    "| General function                                            | \n",
    "| :----------------------------------------------------------- |\n",
    "| def f(x, y):<br />return x + y<br /><br />print(f(1, 4)) |\n",
    "\n",
    "\n",
    "| Lambda function                            |\n",
    "| :------------------------------------------ |\n",
    "| f = lambda x, y: x + y<br />print(f(1, 4)) |\n",
    "\n",
    "\n",
    "\n"
   ]
  },
  {
   "cell_type": "code",
   "execution_count": 1,
   "id": "0394bdf6",
   "metadata": {},
   "outputs": [
    {
     "name": "stdout",
     "output_type": "stream",
     "text": [
      "6\n"
     ]
    }
   ],
   "source": [
    "print((lambda x: x+1)(5))"
   ]
  },
  {
   "cell_type": "markdown",
   "id": "b9c86443",
   "metadata": {},
   "source": [
    "#### Map function\n",
    "* Sequence 자료형 **각 element**에 **동일한 function을 적용**함\n",
    "    * Sequence 자료형: list, tuple, ...\n",
    "* `map(function_name, list_data)`\n",
    "    * Sequence형 자료형(list_data)의 요소(element) 하나하나에 function이 적용됨!"
   ]
  },
  {
   "cell_type": "code",
   "execution_count": 3,
   "id": "6db70a3d",
   "metadata": {},
   "outputs": [
    {
     "name": "stdout",
     "output_type": "stream",
     "text": [
      "<map object at 0x0000018A75A9C9D0>\n",
      "[1, 4, 9, 16, 25]\n"
     ]
    }
   ],
   "source": [
    "ex = [1, 2, 3, 4, 5]\n",
    "f = lambda x: x ** 2\n",
    "print(map(f, ex))\n",
    "# Python3에서는 map 앞에 list를 붙여야 값이 정상적으로 출력됨\n",
    "print(list(map(f, ex)))"
   ]
  },
  {
   "cell_type": "markdown",
   "id": "00a7465c",
   "metadata": {},
   "source": [
    "두 개의 인자를 입력받아서 **zip**처럼 사용 가능!"
   ]
  },
  {
   "cell_type": "code",
   "execution_count": 4,
   "id": "6ac58888",
   "metadata": {},
   "outputs": [
    {
     "name": "stdout",
     "output_type": "stream",
     "text": [
      "[2, 4, 6, 8, 10]\n"
     ]
    }
   ],
   "source": [
    "ex = [1, 2, 3, 4, 5]\n",
    "f = lambda x, y: x + y\n",
    "print(list(map(f, ex, ex)))"
   ]
  },
  {
   "cell_type": "markdown",
   "id": "291a9579",
   "metadata": {},
   "source": [
    "**lambda 함수에서는 필터를 구현**하려면 조건을 만족하지 않을 때 else 값을 반드시 적어야 함!\n",
    "\\> 근데 이건 **list comprehension**으로 할 수 있음!"
   ]
  },
  {
   "cell_type": "code",
   "execution_count": 5,
   "id": "b1bcb8c8",
   "metadata": {},
   "outputs": [
    {
     "data": {
      "text/plain": [
       "[1, 4, 3, 16, 5]"
      ]
     },
     "execution_count": 5,
     "metadata": {},
     "output_type": "execute_result"
    }
   ],
   "source": [
    "list(map(lambda x: x** 2 if x % 2 == 0 else x, ex))"
   ]
  },
  {
   "cell_type": "markdown",
   "id": "cd5cde6d",
   "metadata": {},
   "source": [
    "#### Reduce function\n",
    "* map function과 달리 list에 똑같은 함수를 적용해서 통합\n",
    "* **pandas**에서 **map과 reduce를 같이 사용**하는 경우가 있음!"
   ]
  },
  {
   "cell_type": "code",
   "execution_count": 6,
   "id": "e714e3b9",
   "metadata": {},
   "outputs": [
    {
     "name": "stdout",
     "output_type": "stream",
     "text": [
      "15\n"
     ]
    }
   ],
   "source": [
    "# 처음에는 x, y에 각각 1, 2가 들어감\n",
    "# 그 다음 x=3(1+2), y=3\n",
    "# ...\n",
    "from functools import reduce\n",
    "print(reduce(lambda x, y: x + y, [1, 2, 3, 4, 5]))"
   ]
  },
  {
   "cell_type": "code",
   "execution_count": 7,
   "id": "a1135854",
   "metadata": {},
   "outputs": [],
   "source": [
    "def factorial(n):\n",
    "    return reduce(lambda x, y: x * y, range(1, n+1))"
   ]
  },
  {
   "cell_type": "code",
   "execution_count": 8,
   "id": "cbbd83d5",
   "metadata": {},
   "outputs": [
    {
     "data": {
      "text/plain": [
       "120"
      ]
     },
     "execution_count": 8,
     "metadata": {},
     "output_type": "execute_result"
    }
   ],
   "source": [
    "factorial(5)"
   ]
  },
  {
   "cell_type": "markdown",
   "id": "6bc59241",
   "metadata": {},
   "source": [
    "#### Summary\n",
    "* Lambda, map, reduce는 간단한 코드로 다양한 기능을 제공\n",
    "* 코드의 직관성이 떨어지기 때문에 lambda나 reduce는 python3에서 사용을 권장하지 않음\n",
    "* 그러나 Lagacy library나 다양한 머신러닝 코드에서 여전히 사용!"
   ]
  },
  {
   "cell_type": "markdown",
   "id": "0359fd0b",
   "metadata": {},
   "source": [
    "#### Asterisk\n",
    "* \\*을 의미\n",
    "* 단순 곱셈, 제곱연산, **가변 인자 활용** 등 다양하게 사용됨\n",
    "* 키워드인자(`def(a = 1, b = 2)`)를 한번에 전달할 때는 `**`를 사용\n",
    "| *args                                                        |\n",
    "| :------------------------------------------------------------ |\n",
    "| def asterisk_test(a, *args):<br />print(a, args)<br />print(type(args))<br /><br />asterisk_test(1, 2, 3, 4, 5, 6) |\n",
    "\n",
    "\n",
    "| **kargs                                                      |\n",
    "| :------------------------------------------------------------ |\n",
    "| def asterisk_test(a, **kargs):<br />print(a, kargs)<br />print(type(kargs))<br /><br />asterisk_test(1, b=2, c=3, d=4, e=5, f=6) \n",
    "|\n",
    "\n"
   ]
  },
  {
   "cell_type": "code",
   "execution_count": 9,
   "id": "dcdd3a60",
   "metadata": {},
   "outputs": [
    {
     "name": "stdout",
     "output_type": "stream",
     "text": [
      "1 (2, 3, 4, 5, 6)\n",
      "<class 'tuple'>\n"
     ]
    }
   ],
   "source": [
    "def asterisk_test(a, *args):\n",
    "    print(a, args)\n",
    "    print(type(args))\n",
    "\n",
    "# 1이 a에 저장되고 나머지들은 args에 tuple로 저장됨\n",
    "asterisk_test(1, 2, 3, 4, 5, 6)"
   ]
  },
  {
   "cell_type": "code",
   "execution_count": 10,
   "id": "4e447efc",
   "metadata": {},
   "outputs": [
    {
     "name": "stdout",
     "output_type": "stream",
     "text": [
      "1 {'b': 2, 'c': 3, 'd': 4, 'e': 5, 'f': 6}\n",
      "<class 'dict'>\n"
     ]
    }
   ],
   "source": [
    "def asterisk_test(a, **kargs):\n",
    "    print(a, kargs)\n",
    "    print(type(kargs))\n",
    "\n",
    "# 1이 a에 저장되고 나머지는 kargs에 dict타입으로 저장\n",
    "asterisk_test(1, b=2, c=3, d=4, e=5, f=6)"
   ]
  },
  {
   "cell_type": "markdown",
   "id": "3466269c",
   "metadata": {},
   "source": [
    "#### Asterisk - unpacking a container\n",
    "* tuple, dict 등 자료형에 들어가 있는 값을 **unpacking**\n",
    "* 함수의 입력값, zip 등에 유용하게 사용가능"
   ]
  },
  {
   "cell_type": "code",
   "execution_count": 12,
   "id": "5716f8e8",
   "metadata": {},
   "outputs": [
    {
     "name": "stdout",
     "output_type": "stream",
     "text": [
      "1 ((2, 3, 4, 5, 6),)\n",
      "<class 'tuple'>\n"
     ]
    }
   ],
   "source": [
    "def asterisk_test(a, *args):\n",
    "    # 튜플이기 때문에 마지막에 , 가 있음\n",
    "    print(a, args)\n",
    "    print(type(args))\n",
    "\n",
    "asterisk_test(1, (2, 3, 4, 5, 6))"
   ]
  },
  {
   "cell_type": "code",
   "execution_count": 13,
   "id": "bc229bcc",
   "metadata": {},
   "outputs": [
    {
     "name": "stdout",
     "output_type": "stream",
     "text": [
      "1 2 3 4 5 6\n",
      "<class 'tuple'>\n"
     ]
    }
   ],
   "source": [
    "def asterisk_test(a, args):\n",
    "    print(a, *args)\n",
    "    print(type(args))\n",
    "\n",
    "asterisk_test(1, (2, 3, 4, 5, 6))"
   ]
  },
  {
   "cell_type": "code",
   "execution_count": 14,
   "id": "b8bbd12c",
   "metadata": {},
   "outputs": [
    {
     "name": "stdout",
     "output_type": "stream",
     "text": [
      "(1, 3, 5)\n",
      "(2, 4, 6)\n"
     ]
    }
   ],
   "source": [
    "for data in zip(*([1, 2], [3, 4], [5, 6])):\n",
    "    print(data)"
   ]
  },
  {
   "cell_type": "markdown",
   "id": "247a23e8",
   "metadata": {},
   "source": [
    "#### Data Structure - Collections\n",
    "* List, Tuple, Dict에 대한 Python Built-in 확장 자료 구조(모듈)\n",
    "* 편의성, 실행 효율 등을 사용자에게 제공함\n",
    "* 아래의 모듈이 존재함"
   ]
  },
  {
   "cell_type": "code",
   "execution_count": 16,
   "id": "fc4fabef",
   "metadata": {},
   "outputs": [],
   "source": [
    "from collections import deque\n",
    "from collections import Counter\n",
    "from collections import OrderedDict\n",
    "from collections import defaultdict\n",
    "from collections import namedtuple"
   ]
  },
  {
   "cell_type": "markdown",
   "id": "f1110b0b",
   "metadata": {},
   "source": [
    "#### deque(양방향 큐)\n",
    "* Stack과 Queue를 지원하는 모듈\n",
    "    * 앞, 뒤 양쪽 방향에서 엘리먼트를 추가하거나 제거할 수 있음\n",
    "* List에 비해 효율적인 자료 저장 방식을 지원함\n",
    "* **rotate, reverse** 등 **Linked List의 특성**을 지원함\n",
    "* 기존 list 형태의 함수를 모두 지원함\n",
    "* 효율적 메모리 구조로 처리 속도 향상\n",
    "* `deque.append(item)`\n",
    "    * item을 데크의 오른쪽에 삽입\n",
    "* `deque.rotate(num)`\n",
    "    * 데크를 num만큼 회전함(양수면 오른쪽, 음수면 왼쪽)\n",
    "* `deque.extend(array)`\n",
    "    * 주어진 배열을 순환하면서 데크의 오른쪽에 추가\n",
    "* `deque.extendleft(array)`\n",
    "    * 주어진 배열을 순환하면서 데크의 왼쪽에 추가"
   ]
  },
  {
   "cell_type": "code",
   "execution_count": 18,
   "id": "23f7b9fc",
   "metadata": {},
   "outputs": [
    {
     "name": "stdout",
     "output_type": "stream",
     "text": [
      "deque([0, 1, 2, 3, 4])\n",
      "deque([10, 0, 1, 2, 3, 4])\n"
     ]
    }
   ],
   "source": [
    "from collections import deque\n",
    "\n",
    "deque_list = deque()\n",
    "for i in range(5):\n",
    "    deque_list.append(i)\n",
    "print(deque_list)\n",
    "\n",
    "deque_list.appendleft(10)\n",
    "print(deque_list)"
   ]
  },
  {
   "cell_type": "code",
   "execution_count": 19,
   "id": "60629258",
   "metadata": {},
   "outputs": [
    {
     "name": "stdout",
     "output_type": "stream",
     "text": [
      "deque([10, 0, 1, 2, 3, 4])\n",
      "deque([3, 4, 10, 0, 1, 2])\n",
      "deque([1, 2, 3, 4, 10, 0])\n"
     ]
    }
   ],
   "source": [
    "print(deque_list)\n",
    "deque_list.rotate(2)\n",
    "print(deque_list)\n",
    "deque_list.rotate(2)\n",
    "print(deque_list)\n",
    "\n",
    "# print(deque_list)\n",
    "# # print(deque(reversed(deque_list)))\n",
    "\n",
    "# deque_list.extend([5, 6, 7])\n",
    "# print(deque_list)\n",
    "# deque_list.extendleft([5, 6, 7])\n",
    "# print(deque_list)"
   ]
  },
  {
   "cell_type": "markdown",
   "id": "a12c2469",
   "metadata": {},
   "source": [
    "#### OrderedDict\n",
    "* 원래 dict는 순서대로 저장하지 않음\n",
    "* `OrderedDict`모듈을 사용하여 순서대로 저장할 수 있음\n",
    "* Dict type의 값을 value 혹은 key값으로 정렬할 때 사용"
   ]
  },
  {
   "cell_type": "markdown",
   "id": "358c9234",
   "metadata": {},
   "source": [
    "#### defaultDict\n",
    "* Dict type의 값에 기본 값을 지정, 신규값 생성시 사용하는 방법\n",
    "``` python\n",
    "d = dict()\n",
    "print(d[\"first\"])\n",
    "```\n",
    "- - - - - \n",
    "KeyError: 'first'\n",
    "\n",
    "* 글자 count할 때 사용하면 편함"
   ]
  },
  {
   "cell_type": "code",
   "execution_count": 22,
   "id": "e6e68e50",
   "metadata": {},
   "outputs": [
    {
     "name": "stdout",
     "output_type": "stream",
     "text": [
      "0\n"
     ]
    }
   ],
   "source": [
    "from collections import defaultdict\n",
    "# Default dictionary를 생성\n",
    "d = defaultdict(object)\n",
    "# Default값을 0으로 설정\n",
    "d = defaultdict(lambda: 0)\n",
    "print(d[\"first\"])"
   ]
  },
  {
   "cell_type": "markdown",
   "id": "d2a76776",
   "metadata": {},
   "source": [
    "#### Counter\n",
    "* Sequence type의 data element들의 개수를 dict형태로 반환\n",
    "* Dict type, keyword parameter 등도 모두 처리 가능"
   ]
  },
  {
   "cell_type": "code",
   "execution_count": 24,
   "id": "f06d866c",
   "metadata": {},
   "outputs": [
    {
     "name": "stdout",
     "output_type": "stream",
     "text": [
      "Counter({'a': 3, 'l': 2, 'g': 1, 'h': 1, 'd': 1})\n"
     ]
    }
   ],
   "source": [
    "from collections import Counter\n",
    "\n",
    "# 새로운 빈 Counter\n",
    "c = Counter()\n",
    "# a new counter from an iterable\n",
    "c = Counter('gallahad')\n",
    "\n",
    "print(c)"
   ]
  },
  {
   "cell_type": "code",
   "execution_count": 25,
   "id": "f6631058",
   "metadata": {},
   "outputs": [
    {
     "name": "stdout",
     "output_type": "stream",
     "text": [
      "Counter({'red': 4, 'blue': 2})\n",
      "['red', 'red', 'red', 'red', 'blue', 'blue']\n"
     ]
    }
   ],
   "source": [
    "c = Counter({'red': 4, 'blue': 2})\n",
    "print(c)\n",
    "print(list(c.elements()))"
   ]
  }
 ],
 "metadata": {
  "kernelspec": {
   "display_name": "Python 3 (ipykernel)",
   "language": "python",
   "name": "python3"
  },
  "language_info": {
   "codemirror_mode": {
    "name": "ipython",
    "version": 3
   },
   "file_extension": ".py",
   "mimetype": "text/x-python",
   "name": "python",
   "nbconvert_exporter": "python",
   "pygments_lexer": "ipython3",
   "version": "3.9.7"
  }
 },
 "nbformat": 4,
 "nbformat_minor": 5
}
