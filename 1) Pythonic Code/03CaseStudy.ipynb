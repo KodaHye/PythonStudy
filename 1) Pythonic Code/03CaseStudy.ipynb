{
 "cells": [
  {
   "cell_type": "markdown",
   "id": "98457811",
   "metadata": {},
   "source": [
    "#### New Categorization\n",
    "* Python만을 사용하여 **News Categorization**을 수행하는 코드 실습\n",
    "    * **비슷한 뉴스를 분류**"
   ]
  },
  {
   "cell_type": "markdown",
   "id": "c3866c36",
   "metadata": {},
   "source": [
    "#### 핵심 키워드\n",
    "* Categorization\n",
    "* One-hot Encoding\n",
    "* Bag of words\n",
    "* Cosine Distance\n",
    "* Corpus\n",
    "* List Comprehension"
   ]
  },
  {
   "cell_type": "markdown",
   "id": "2f5b2e10",
   "metadata": {},
   "source": [
    "문자를 숫자료 표현해야 컴퓨터가 문자를 인식할 수 있음<br>\n",
    "숫자로 유사하다는 것은 어떻게 표현?<br>\n",
    "유사하다 = 가깝다 → 벡터로 표현<br>\n",
    "문자 → 숫자 → 벡터"
   ]
  },
  {
   "cell_type": "markdown",
   "id": "84c95209",
   "metadata": {},
   "source": [
    "#### 문자를 Vector로 - One-hot Encoding\n",
    "* 하나의 단어를 Vecotr의 Index로 인식\n",
    "* 단어 존재시 1, 없으면 0\n",
    "* 문서에 글자가 n개 있으면 index의 개수를 n으로 설정!\n",
    "<img src = \"../img/One-hot Encoding.PNG\" width = \"300\" height = \"100\" align = \"left\">"
   ]
  },
  {
   "cell_type": "markdown",
   "id": "1981ad71",
   "metadata": {},
   "source": [
    "#### Bag of words(문서를 벡터로 표현하는 기본적인 방법)\n",
    "* 단어들의 인덱스를 가지고 있는 dict가 있는데, 하나의 문서(문장)에 대해서 아래와 같이 표현\n",
    "* **단어별로 인덱스를 부여**해서, 한 문장(또는 문서)의 단어의 개수를 Vector로 표현\n",
    "<img src = \"../img/BagOfWords.PNG\" width = \"300\" height = \"100\" align = \"left\"> "
   ]
  },
  {
   "cell_type": "markdown",
   "id": "369ac54a",
   "metadata": {},
   "source": [
    "#### Cosine distance\n",
    "* 문서의 유사도를 확인할 때에는 일반적으로 Cosine distance를 사용함 \n",
    "* Love, hate → (5, 0), (5, 4), (4, 0)\n",
    "    * (5, 0): Love 5번, hate 1번\n",
    "    * (5, 4): Love 5번, hate 4번\n",
    "    * (4, 0): Love 4번, hate 0번"
   ]
  },
  {
   "cell_type": "markdown",
   "id": "6a636abf",
   "metadata": {},
   "source": [
    "#### Process \n",
    "* 파일을 불러오기\n",
    "* 파일을 읽어서 단어사전(corpus) 만들기\n",
    "* 단어별로 Index 만들기\n",
    "    * **set, dic**\n",
    "* 만들어진 인덱스로 문서별로 **Bag of words vector** 생성\n",
    "* 비교하고자 하는 문서 비교하기\n",
    "    * **Cosine distance**\n",
    "* 얼마나 맞는지 측정하기"
   ]
  },
  {
   "cell_type": "code",
   "execution_count": 14,
   "id": "c71b61fb",
   "metadata": {},
   "outputs": [
    {
     "name": "stdout",
     "output_type": "stream",
     "text": [
      "['news_data\\\\1_Dae-Ho Lee walk-off homer gives Mariners 4-2 win over Rangers.txt', 'news_data\\\\1_Korean First Baseman Dae-Ho Lee Becomes Free Agent, Interested In MLB Deal.txt', 'news_data\\\\1_Lee Dae-ho Announces MLB Aspirations.txt', 'news_data\\\\1_Lee Dae-ho to Start Spring Training in Arizona.txt', 'news_data\\\\1_Lee Dae-ho wins MVP in Japan Series.txt', \"news_data\\\\1_Mariners' Lee Dae-ho belts a walk-off homer.txt\", 'news_data\\\\1_Mariners’ Lee Dae-ho gets 1st two-hit game, double.txt', 'news_data\\\\1_MLB Team Interested In Dae-Ho Lee.txt', \"news_data\\\\1_Seattle Mariners' Newest Signing Dae-Ho Lee Could Become Fan Favorite.txt\", 'news_data\\\\1_SoftBank Hawks Hope to Renew Contract with Lee Dae-ho.txt', 'news_data\\\\2_Dodgers left with questions after latest Hyun-Jin Ryu setback.txt', 'news_data\\\\2_Dodgers left-hander Hyun-Jin Ryu expects to be ready for start of season.txt', 'news_data\\\\2_Dodgers unsure when Hyun-Jin Ryu will throw another bullpen session.txt', 'news_data\\\\2_Dodgers will take it slowly with pitcher Hyun-Jin Ryu, whose health could be a key to their season.txt', 'news_data\\\\2_Hyun-Jin Ryu downplays long break between bullpen sessions.txt', \"news_data\\\\2_Hyun-Jin Ryu's timetable starting to become clear.txt\", 'news_data\\\\2_Los Angeles Dodgers’ Hyun-Jin Ryu Experiencing Shoulder Discomfort.txt', 'news_data\\\\2_Ryu Hyun-jin appears before fans after 3-month hiatus for rehabilitation.txt', 'news_data\\\\2_Ryu Hyun-jin Rejoins Dodgers After Surgery.txt', 'news_data\\\\2_Ryu Hyun-jin suffers injury in groin, further delays return.txt', 'news_data\\\\3_Cleveland Indians interested in South Korean reliever Seung-hwan Oh.txt', 'news_data\\\\3_Free agent closer Seung-hwan Oh under investigation for gambling.txt', 'news_data\\\\3_Korean reliever Seung-hwan Oh has the best nickname for a closer.txt', 'news_data\\\\3_Lim Chang-yong, Oh Seung-hwan to be suspended from 50% of games even if they return.txt', 'news_data\\\\3_Oh Seung-hwan Could Lose Contract Over Gambling Scandal.txt', 'news_data\\\\3_Seung Hwan Oh Arrives Early To Cardinals Spring Training Camp.txt', 'news_data\\\\3_Seung-hwan Oh off to a great start.txt', 'news_data\\\\3_SEUNG-HWAN OH SHUTS DOWN TWINS IN FIRST SPRING ACTION.txt', 'news_data\\\\3_SEUNG-HWAN OH STRIKES OUT THE SIDE.txt', 'news_data\\\\3_SEUNG-HWAN OH TOSSES CLEAN INNING VERSUS BOSTON.txt', \"news_data\\\\4_Byung Ho Park went 1-for-4 with a solo homer in Saturday's 4-1 loss to the Tigers..txt\", 'news_data\\\\4_BYUNG-HO PARK SETTLING IN TO AMERICAN GAME.txt', \"news_data\\\\4_Byung-Ho Park Won't Fix The Minnesota Twins.txt\", \"news_data\\\\4_Byung-ho Park's homers are the best thing about the Twins so far.txt\", 'news_data\\\\4_Minnesota’s Park Byung-ho hits 7th homer of the season.txt', 'news_data\\\\4_Park Byung-ho hits large homer on ‘Park Byung-ho Day’.txt', 'news_data\\\\4_Park remains on bench as Twins face Gonzalez and the Nats.txt', \"news_data\\\\4_Twins' Park Byung-ho hits first big league triple.txt\", \"news_data\\\\4_Twins' slugger Byung Ho Park adapts to high heat.txt\", 'news_data\\\\4_Twins’ Byung Ho Park Still Getting Accustomed To American Life.txt', 'news_data\\\\5_ S. Korea look well-positioned to qualify for 2018 World Cup.txt', 'news_data\\\\5_Augsburg midfielder Koo Ja-cheol scores 3 hat tricks at home game.txt', 'news_data\\\\5_Augsburg vs Stuttgart Bundesliga Match Preview and Kick-Off Time.txt', 'news_data\\\\5_Follow the action live as Augsburg welcome the visit of Stuttgart on Saturday.txt', \"news_data\\\\5_Injured midfielder likely to miss nat'l team friendlies.txt\", 'news_data\\\\5_Koo Ja-cheol Nets a Hat Trick for Augsburg.txt', 'news_data\\\\5_Korean Footballers in Europe Struggle for Match Time.txt', 'news_data\\\\5_S. Korean MF Koo Ja-cheol suspended for next World Cup qualifier.txt', 'news_data\\\\5_South Korean Footballer Koo Ja Cheol Returns To Augsburg, Says He Has the ‘Feeling of Coming Home’.txt', \"news_data\\\\5_Stielike warns it won't be easy for Euro-stars.txt\", 'news_data\\\\6_AFC 2018 World Cup Qualifying South Korea vs Lebanon, Preview, Prediction & Predicted Lineup.txt', 'news_data\\\\6_Borussia Dortmund sign Korea defender Park Joo-ho from Mainz.txt', 'news_data\\\\6_Borussia Dortmund vs. Wolfsburg Team News, Preview, Live Stream, TV Info.txt', 'news_data\\\\6_BVB has initially without full-back Joo-Ho Park.txt', 'news_data\\\\6_International South Korean Joo Ho Park, is committed to Borussia Dortmund on Saturday..txt', 'news_data\\\\6_Joo-Ho Park poor for Borussia Dortmund in loss at Cologne.txt', \"news_data\\\\6_Mkhitaryan, Hummels perfect 10s in Dortmund's win at Gladbach.txt\", \"news_data\\\\6_Park Joo-ho delivers top performance in Dortmund's late Europa victory.txt\", 'news_data\\\\6_Son Heung-min, Park Joo-ho Set to Start for New Clubs.txt', 'news_data\\\\6_Thomas Tuchel mulls Park Joo-ho dilemma on Borussia Dortmund`s record run.txt', 'news_data\\\\7_Ki Sung-Yueng back in Swansea City fold as Garry Monk targets victory over benchmark club Everton.txt', 'news_data\\\\7_Ki Sung-yueng Scores 2nd Goal for Swansea in 4 Months.txt', 'news_data\\\\7_Ki Sung-yueng Stretchered Off Pitch with Head Injury.txt', 'news_data\\\\7_Premier League 2015-2016 Swansea City vs Manchester City, Preview, Prediction & Predicted Lineup.txt', 'news_data\\\\7_Sung-yueng In Team Of The Week.txt', 'news_data\\\\7_Swansea City midfielder Ki Sung-Yueng demands immediate improvement.txt', 'news_data\\\\7_Swansea City midfielder Ki Sung-Yueng says confidence will not be dented by Arsenal defeat.txt', 'news_data\\\\7_Swansea City midfielder Ki Sung-Yueng wary of Arsenal threat.txt', 'news_data\\\\7_Swansea City midfielder Ki Sung-Yueng will miss Crystal Palace clash.txt', 'news_data\\\\7_Swansea win the perfect tonic for weary Sunderland.txt', 'news_data\\\\8_Has Heung Min Son Done Enough to Justify 22m Transfer.txt', 'news_data\\\\8_Heung min Son Believes Injury Tainted Debut at Tottenham.txt', \"news_data\\\\8_Heung Min Son doubles Tottenham's lead over Chelsea.txt\", 'news_data\\\\8_Heung Min Son gives Tottenham a two-goal advantage vs Chelsea.txt', \"news_data\\\\8_Heung Min Son prefers Tottenham's busy fixture list to winter break.txt\", 'news_data\\\\8_South Korea are waiting to hear if Tottenham will clear Son Heung-min for the Olympics, according to the forward..txt', \"news_data\\\\8_South Korea coach has a warning for Tottenham Hotspur's Heung-min Son and fellow internationals, suggests they should consider exits.txt\", 'news_data\\\\8_Top five matchups in 2018 AFC World Cup final round qualification.txt', 'news_data\\\\8_Tottenham vs Southampton player ratings Heung-min Son shines but Ryan Mason disappoints.txt', \"news_data\\\\8_Who Should Be Tottenham Hotspur's No. 1 Summer Transfer Target.txt\"]\n"
     ]
    }
   ],
   "source": [
    "import os\n",
    "\n",
    "# 파일 불러오기\n",
    "def get_file_list(dir_name):\n",
    "    return os.listdir(dir_name)\n",
    "# print(get_file_list(\"news_data\")\n",
    "\n",
    "if __name__ == \"__main__\":\n",
    "    dir_name = \"news_data\"\n",
    "    file_list = get_file_list(dir_name)\n",
    "    # 윈도우는 \\를 사용하고, 맥은 /를 사용하기 때문에 os.path.join을 사용\n",
    "    file_list = [os.path.join(dir_name, file_name) for file_name in file_list]\n",
    "    print(file_list) \n",
    "    \n",
    "def get_contents(file_list):\n",
    "    y_class = []\n",
    "    X_text []\n",
    "    class"
   ]
  },
  {
   "cell_type": "code",
   "execution_count": null,
   "id": "d6d988c4",
   "metadata": {},
   "outputs": [],
   "source": []
  }
 ],
 "metadata": {
  "kernelspec": {
   "display_name": "Python 3 (ipykernel)",
   "language": "python",
   "name": "python3"
  },
  "language_info": {
   "codemirror_mode": {
    "name": "ipython",
    "version": 3
   },
   "file_extension": ".py",
   "mimetype": "text/x-python",
   "name": "python",
   "nbconvert_exporter": "python",
   "pygments_lexer": "ipython3",
   "version": "3.9.7"
  }
 },
 "nbformat": 4,
 "nbformat_minor": 5
}
