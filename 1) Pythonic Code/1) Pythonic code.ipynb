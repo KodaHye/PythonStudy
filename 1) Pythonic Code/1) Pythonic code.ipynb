{
 "cells": [
  {
   "cell_type": "markdown",
   "id": "0f717e42",
   "metadata": {},
   "source": [
    "> 1. Split & Join <br>\n",
    "> 2. List Comprehension <br>\n",
    "> 3. Enumerate & Zip <br>\n",
    "> 4. Lambda & MapReduce <br>\n",
    "> 5. Asterisk <br>\n",
    "> 6. Data Structure - Colecctions"
   ]
  },
  {
   "cell_type": "markdown",
   "id": "08c0bab5",
   "metadata": {},
   "source": [
    "#### Pythonic Code \n",
    "\n",
    "* 예시: 여러 단어들을 하나로 붙일 때\n",
    "\n",
    "\n",
    "``` c\n",
    "colors = \"red\", \"blue\", \"green\"\n",
    "result = \"\"\n",
    "for s in colors:\n",
    "\tresult += s\n",
    "```\n",
    "-----\n",
    "\n",
    "```python\n",
    "colors = ['red', 'blue', 'green', 'yellow']\n",
    "result = ''.join(colors)\n",
    "result\n",
    "```\n",
    "* 파이썬 스타일의 코딩 기법\n",
    "* **파이썬 특유의 문법**을 활용하여 효율적으로 코드를 표현함\n",
    "* 고급코드를 작성할수록 더 많이 필요해짐\n"
   ]
  },
  {
   "cell_type": "markdown",
   "id": "73f5e093",
   "metadata": {},
   "source": [
    "#### Split 함수\n",
    "\n",
    "* String Type의 값을 나눠서 List 형태로 변환"
   ]
  },
  {
   "cell_type": "code",
   "execution_count": 2,
   "id": "704efd75",
   "metadata": {},
   "outputs": [
    {
     "name": "stdout",
     "output_type": "stream",
     "text": [
      "['zero', 'one', 'two', 'three']\n"
     ]
    }
   ],
   "source": [
    "# 빈간을 기준으로 문자열 나누기, 각 요소에 index가 할당됨\n",
    "items = 'zero one two three'.split() \n",
    "print(items)\n",
    "example = 'python,jquery,javascript' # ','을 기준으로 문자열 나누기\n",
    "example.split(',')\n",
    "\n",
    "# 리스트에 있는 각 값을 a, b, c 변수로 unpacking\n",
    "# split된 요소가 a, b, c로 매핑이 됨, 주로 domain address에서 사용\n",
    "a, b, c = example.split(',')\n",
    "example = 'cs50.gachon.edu'\n",
    "\n",
    "# '.'을 기준으로 문자열 나누기\n",
    "subdomain, domain, tld = example.split('.')"
   ]
  },
  {
   "cell_type": "markdown",
   "id": "c7dafc83",
   "metadata": {},
   "source": [
    "#### Join 함수\n",
    "* String List를 합쳐 하나의 String으로 반환할 때 사용"
   ]
  },
  {
   "cell_type": "code",
   "execution_count": 5,
   "id": "cc710fa1",
   "metadata": {},
   "outputs": [],
   "source": [
    "colors = ['red', 'blue', 'green']\n",
    "result = ''.join(colors)\n",
    "# 'redbluegreen'\n",
    "\n",
    "# 연결 시 빈칸 한 칸으로 연결\n",
    "result = ' '.join(colors)\n",
    "# 'red blue green'\n",
    "\n",
    "# 연결 시 ', '으로 연결\n",
    "result = ', '.join(colors)\n",
    "# 'red, blue, green'"
   ]
  },
  {
   "cell_type": "markdown",
   "id": "788a929a",
   "metadata": {},
   "source": [
    "#### List comprehension\n",
    "* 기존 List를 사용하여 간단히 다른 리스트를 만드는 기법\n",
    "* 포괄적인 List, 포함되는 리스트라는 의미로 사용됨\n",
    "* 파이썬에서 가장 많이 사용되는 기법 중 하나\n",
    "* 일반적으로 for + append 보다 속도가 빠름\n",
    "* 결과를 `1 dimensional list`로 할 수 있고, `2 dimensional list`로 할 수도 있음"
   ]
  },
  {
   "cell_type": "code",
   "execution_count": 6,
   "id": "7330a886",
   "metadata": {},
   "outputs": [
    {
     "data": {
      "text/plain": [
       "[0, 1, 2, 3, 4, 5, 6, 7, 8, 9]"
      ]
     },
     "execution_count": 6,
     "metadata": {},
     "output_type": "execute_result"
    }
   ],
   "source": [
    "# 일반적으로 forloop를 사용한 경우\n",
    "result = []\n",
    "for i in range(10):\n",
    "    result.append(i)\n",
    "result"
   ]
  },
  {
   "cell_type": "code",
   "execution_count": 9,
   "id": "f246d619",
   "metadata": {},
   "outputs": [
    {
     "name": "stdout",
     "output_type": "stream",
     "text": [
      "[0, 1, 2, 3, 4, 5, 6, 7, 8, 9]\n",
      "[0, 2, 4, 6, 8]\n"
     ]
    }
   ],
   "source": [
    "# list comprehension을 사용\n",
    "# i의 값이 차례로 i에 들어가게 되면서 result(하나의 리스트)가 만들어짐\n",
    "result = [i for i in range(10)]\n",
    "print(result)\n",
    "\n",
    "# list comprehension에 필터 기능을 추가할 수 있음\n",
    "# 조건에 만족할때만 리스트에 추가\n",
    "result = [i for i in range(10) if i % 2 ==0]\n",
    "print(result)"
   ]
  },
  {
   "cell_type": "code",
   "execution_count": 17,
   "id": "ea80c859",
   "metadata": {},
   "outputs": [
    {
     "name": "stdout",
     "output_type": "stream",
     "text": [
      "['HW', 'Ho', 'Hr', 'Hl', 'Hd', 'eW', 'eo', 'er', 'el', 'ed', 'lW', 'lo', 'lr', 'll', 'ld', 'lW', 'lo', 'lr', 'll', 'ld', 'oW', 'oo', 'or', 'ol', 'od']\n"
     ]
    }
   ],
   "source": [
    "word_1 = \"Hello\"\n",
    "word_2 = \"World\"\n",
    "\n",
    "# Nested For Loop\n",
    "# for loop를 2개 사용하는 것과는 조금 차이가 있음!\n",
    "result = [i + j for i in word_1 for j in word_2]\n",
    "print(result)"
   ]
  },
  {
   "cell_type": "code",
   "execution_count": 20,
   "id": "1a8e4456",
   "metadata": {},
   "outputs": [
    {
     "name": "stdout",
     "output_type": "stream",
     "text": [
      "['AD', 'AE', 'AF', 'BD', 'BE', 'BF', 'CD', 'CE', 'CF']\n",
      "['AD', 'AE', 'AF', 'BD', 'BE', 'BF', 'CD', 'CE', 'CF']\n"
     ]
    }
   ],
   "source": [
    "case_1 = ['A', 'B', 'C']\n",
    "case_2 = ['D', 'E', 'F']\n",
    "result = [i+j for i in case_1 for j in case_2]\n",
    "print(result)\n",
    "\n",
    "# 필터를 추가하여 연산을 할 수도 있음\n",
    "result = [i + j for i in case_1 for j in case_2 if not(i==j)]\n",
    "print(result)"
   ]
  },
  {
   "cell_type": "code",
   "execution_count": 31,
   "id": "48317675",
   "metadata": {},
   "outputs": [
    {
     "name": "stdout",
     "output_type": "stream",
     "text": [
      "['the', 'quick', 'brown', 'fox', 'jumps', 'over', 'the', 'lazy', 'dog']\n",
      "['THE', 'the', 3]\n",
      "['QUICK', 'quick', 5]\n",
      "['BROWN', 'brown', 5]\n",
      "['FOX', 'fox', 3]\n",
      "['JUMPS', 'jumps', 5]\n",
      "['OVER', 'over', 4]\n",
      "['THE', 'the', 3]\n",
      "['LAZY', 'lazy', 4]\n",
      "['DOG', 'dog', 3]\n",
      "[['THE', 'the', 3], ['QUICK', 'quick', 5], ['BROWN', 'brown', 5], ['FOX', 'fox', 3], ['JUMPS', 'jumps', 5], ['OVER', 'over', 4], ['THE', 'the', 3], ['LAZY', 'lazy', 4], ['DOG', 'dog', 3]]\n"
     ]
    }
   ],
   "source": [
    "# 문장을 빈칸 기준으로 나눠 list로 변환\n",
    "words = 'the quick brown fox jumps over the lazy dog'.split()\n",
    "\n",
    "print(words)\n",
    "\n",
    "# list의 각 element들을 대문자, 소문자, 길이로 변환하여 two demensional list로 변환\n",
    "stuff = [[w.upper(), w.lower(), len(w)] for w in words] \n",
    "\n",
    "for i in stuff:\n",
    "    print(i)\n",
    "    \n",
    "print(stuff)"
   ]
  },
  {
   "cell_type": "markdown",
   "id": "109022bf",
   "metadata": {},
   "source": [
    "#### Enumerate & Zip\n",
    "* List의 element를 추출할 때 번호를 붙여서 추출"
   ]
  },
  {
   "cell_type": "code",
   "execution_count": 37,
   "id": "ce4879a7",
   "metadata": {},
   "outputs": [
    {
     "name": "stdout",
     "output_type": "stream",
     "text": [
      "0 tic\n",
      "1 tac\n",
      "2 tok\n"
     ]
    }
   ],
   "source": [
    "# list의 있는 index와 값을 unpacking\n",
    "for i, v in enumerate(['tic', 'tac', 'tok']):\n",
    "    print(i, v)"
   ]
  },
  {
   "cell_type": "code",
   "execution_count": 38,
   "id": "9d4f8072",
   "metadata": {},
   "outputs": [
    {
     "data": {
      "text/plain": [
       "[(0, 'a'), (1, 'b'), (2, 'c'), (3, 'd')]"
      ]
     },
     "execution_count": 38,
     "metadata": {},
     "output_type": "execute_result"
    }
   ],
   "source": [
    "mylist = ['a', 'b', 'c', 'd']\n",
    "\n",
    "# list에 있는 index와 값을 unpacking하여 list로 저장\n",
    "list(enumerate(mylist))"
   ]
  },
  {
   "cell_type": "code",
   "execution_count": 43,
   "id": "a2901b19",
   "metadata": {},
   "outputs": [
    {
     "data": {
      "text/plain": [
       "{0: 'Gachon',\n",
       " 1: 'University',\n",
       " 2: 'is',\n",
       " 3: 'an',\n",
       " 4: 'academic',\n",
       " 5: 'institute',\n",
       " 6: 'located',\n",
       " 7: 'in',\n",
       " 8: 'South',\n",
       " 9: 'Korea.'}"
      ]
     },
     "execution_count": 43,
     "metadata": {},
     "output_type": "execute_result"
    }
   ],
   "source": [
    "# 문장을 list로 만들고, list의 index와 값을 unpacking하여 dict로 저장\n",
    "{i:j for i, j in enumerate('Gachon University is an academic institute located in South Korea.'.split())}"
   ]
  },
  {
   "cell_type": "markdown",
   "id": "f2f8f738",
   "metadata": {},
   "source": [
    "#### Zip\n",
    "* 두 개의 list의 값을 병렬적으로 추출함\n",
    "* 같은 index의 원소들을 묶음\n",
    "* 벡터 계산 모듈을 만들 때 사용하면 간편함!"
   ]
  },
  {
   "cell_type": "code",
   "execution_count": 53,
   "id": "6e225db6",
   "metadata": {
    "scrolled": true
   },
   "outputs": [
    {
     "name": "stdout",
     "output_type": "stream",
     "text": [
      "a1 b1\n",
      "a2 b2\n",
      "a3 b3\n"
     ]
    }
   ],
   "source": [
    "alist = ['a1', 'a2', 'a3']\n",
    "blist = ['b1', 'b2', 'b3']\n",
    "\n",
    "for a, b in zip(alist, blist):\n",
    "    print(a, b)"
   ]
  },
  {
   "cell_type": "code",
   "execution_count": 54,
   "id": "c9446bb7",
   "metadata": {},
   "outputs": [
    {
     "data": {
      "text/plain": [
       "[111, 222, 333]"
      ]
     },
     "execution_count": 54,
     "metadata": {},
     "output_type": "execute_result"
    }
   ],
   "source": [
    "# 각 tuple의 같은 index끼리 묶음\n",
    "a, b, c = zip((1, 2, 3), (10, 20, 30), (100, 200, 300))\n",
    "\n",
    "# 각 tuple의 같은 index를 묶어 합을 list로 변환\n",
    "# 벡터의 연산\n",
    "[sum(x) for x in zip((1, 2, 3), (10, 20, 30), (100, 200, 300))]"
   ]
  },
  {
   "cell_type": "markdown",
   "id": "112426f0",
   "metadata": {},
   "source": [
    "#### Enumerate & Zip\n",
    "* Zip을 사용하여 index가 같은 원소들을 묶어주고\n",
    "* i의 값에 index를 붙여서 출력할 수 있음"
   ]
  },
  {
   "cell_type": "code",
   "execution_count": 56,
   "id": "c0f0ae1e",
   "metadata": {},
   "outputs": [
    {
     "name": "stdout",
     "output_type": "stream",
     "text": [
      "0 a1 b1\n",
      "1 a2 b2\n",
      "2 a3 b3\n"
     ]
    }
   ],
   "source": [
    "alist = ['a1', 'a2', 'a3']\n",
    "blist = ['b1', 'b2', 'b3']\n",
    "\n",
    "for i, (a, b) in enumerate(zip(alist, blist)):\n",
    "    print(i, a, b)"
   ]
  },
  {
   "cell_type": "markdown",
   "id": "c2014587",
   "metadata": {},
   "source": [
    "#### Lamda\n",
    "* 함수 이름 없이, 함수처럼 쓸 수 있는 익명함수\n",
    "* 수학의 람다 대수에서 유래함\n",
    "\n",
    "| General function                                            | \n",
    "| ----------------------------------------------------------- |\n",
    "| def f(x, y):<br />   return x + y<br /><br />print(f(1, 4)) |\n",
    "\n",
    "\n",
    "| Lambda function                            |\n",
    "| ------------------------------------------ |\n",
    "| f = lambda x, y: x + y<br />print(f(1, 4)) |\n",
    "\n",
    "\n",
    "\n"
   ]
  },
  {
   "cell_type": "code",
   "execution_count": null,
   "id": "0394bdf6",
   "metadata": {},
   "outputs": [],
   "source": []
  }
 ],
 "metadata": {
  "kernelspec": {
   "display_name": "Python 3 (ipykernel)",
   "language": "python",
   "name": "python3"
  },
  "language_info": {
   "codemirror_mode": {
    "name": "ipython",
    "version": 3
   },
   "file_extension": ".py",
   "mimetype": "text/x-python",
   "name": "python",
   "nbconvert_exporter": "python",
   "pygments_lexer": "ipython3",
   "version": "3.9.7"
  }
 },
 "nbformat": 4,
 "nbformat_minor": 5
}
